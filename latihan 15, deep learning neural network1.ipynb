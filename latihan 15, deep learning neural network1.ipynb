{
 "cells": [
  {
   "cell_type": "code",
   "execution_count": 1,
   "id": "8c3b7f88",
   "metadata": {},
   "outputs": [],
   "source": [
    "import pandas as pd\n",
    "\n",
    "# TODO: change the weight1, weight2, and bias\n",
    "weight1 = 0\n",
    "weight2 = 0\n",
    "bias = 0"
   ]
  },
  {
   "cell_type": "code",
   "execution_count": 2,
   "id": "449b928f",
   "metadata": {},
   "outputs": [],
   "source": [
    "# DON'T CHANGE BELOW SCRIPT\n",
    "# (Input, Target)\n",
    "test_inputs = [(1, 1), (0, 1), (1, 0), (0, 0)]\n",
    "targets = [True, False, False, False]\n",
    "outputs = []"
   ]
  },
  {
   "cell_type": "code",
   "execution_count": 3,
   "id": "84ac358c",
   "metadata": {},
   "outputs": [],
   "source": [
    "# Generate results\n",
    "for inputs, target in zip(test_inputs, targets):\n",
    "    linear_combination = weight1*inputs[0] + weight2*inputs[1] + bias\n",
    "    output = int(linear_combination > 0)\n",
    "    is_correct = 'Benar' if output == target else 'Salah'\n",
    "    outputs.append(\n",
    "        [inputs[0], inputs[1], linear_combination, output, is_correct]\n",
    "    )"
   ]
  },
  {
   "cell_type": "code",
   "execution_count": 4,
   "id": "dd22ef68",
   "metadata": {},
   "outputs": [],
   "source": [
    "# Show results\n",
    "num_wrong = len([output[4] for output in outputs if output[4] == \"Salah\"])\n",
    "output_df = pd.DataFrame(\n",
    "    outputs,\n",
    "    columns=[\n",
    "        'Input X1', 'Input X2', 'Linear Combination',\n",
    "        'Activation Output', 'Is Correct'\n",
    "    ]\n",
    ")\n"
   ]
  },
  {
   "cell_type": "code",
   "execution_count": 5,
   "id": "f8f93e56",
   "metadata": {},
   "outputs": [
    {
     "name": "stdout",
     "output_type": "stream",
     "text": [
      "Ada 1 kesalahan. Terus mencoba.\n",
      "\n",
      " Input X1  Input X2  Linear Combination  Activation Output Is Correct\n",
      "        1         1                   0                  0      Salah\n",
      "        0         1                   0                  0      Benar\n",
      "        1         0                   0                  0      Benar\n",
      "        0         0                   0                  0      Benar\n"
     ]
    }
   ],
   "source": [
    "if not num_wrong:\n",
    "    print(\"Nice! Perceptron bekerja sesuai harapan.\\n\")\n",
    "else:\n",
    "    print(f\"Ada {num_wrong} kesalahan. Terus mencoba.\\n\")\n",
    "print(output_df.to_string(index=False))"
   ]
  },
  {
   "cell_type": "code",
   "execution_count": 15,
   "id": "bb146df7",
   "metadata": {},
   "outputs": [],
   "source": [
    "import matplotlib.pyplot as plt\n",
    "import numpy as np\n",
    "import pandas as pd"
   ]
  },
  {
   "cell_type": "code",
   "execution_count": 17,
   "id": "6b118e00",
   "metadata": {},
   "outputs": [],
   "source": [
    "def plot_points(X, y):\n",
    "    admitted = X[np.argwhere(y==1)]\n",
    "    rejected = X[np.argwhere(y==0)]\n",
    "    plt.scatter(\n",
    "        [s[0][0] for s in rejected],\n",
    "        [s[0][1] for s in rejected], s = 25, color = 'blue', edgecolor = 'k'\n",
    "    )\n",
    "    plt.scatter(\n",
    "        [s[0][0] for s in admitted],\n",
    "        [s[0][1] for s in admitted], s = 25, color = 'red', edgecolor = 'k'\n",
    "    )"
   ]
  },
  {
   "cell_type": "code",
   "execution_count": 24,
   "id": "ccb42486",
   "metadata": {},
   "outputs": [],
   "source": [
    "def display(m, b, color='g--'):\n",
    "    plt.xlim(-0.05,1.05)\n",
    "    plt.ylim(-0.05,1.05)\n",
    "    x = np.arange(-10, 10, 0.1)\n",
    "    plt.plot(x, m*x+b, color)"
   ]
  },
  {
   "cell_type": "code",
   "execution_count": 38,
   "id": "4bc91ff3",
   "metadata": {},
   "outputs": [],
   "source": [
    "data = pd.read_csv('student_data.csv')"
   ]
  },
  {
   "cell_type": "code",
   "execution_count": 45,
   "id": "78807655",
   "metadata": {},
   "outputs": [
    {
     "data": {
      "text/html": [
       "<div>\n",
       "<style scoped>\n",
       "    .dataframe tbody tr th:only-of-type {\n",
       "        vertical-align: middle;\n",
       "    }\n",
       "\n",
       "    .dataframe tbody tr th {\n",
       "        vertical-align: top;\n",
       "    }\n",
       "\n",
       "    .dataframe thead th {\n",
       "        text-align: right;\n",
       "    }\n",
       "</style>\n",
       "<table border=\"1\" class=\"dataframe\">\n",
       "  <thead>\n",
       "    <tr style=\"text-align: right;\">\n",
       "      <th></th>\n",
       "      <th>admit;gre;gpa;rank</th>\n",
       "    </tr>\n",
       "  </thead>\n",
       "  <tbody>\n",
       "    <tr>\n",
       "      <th>0;620;4;2</th>\n",
       "      <td>NaN</td>\n",
       "    </tr>\n",
       "    <tr>\n",
       "      <th>0;560;3</th>\n",
       "      <td>04;3</td>\n",
       "    </tr>\n",
       "    <tr>\n",
       "      <th>0;460;2</th>\n",
       "      <td>63;2</td>\n",
       "    </tr>\n",
       "    <tr>\n",
       "      <th>0;700;3</th>\n",
       "      <td>65;2</td>\n",
       "    </tr>\n",
       "    <tr>\n",
       "      <th>0;600;3</th>\n",
       "      <td>89;3</td>\n",
       "    </tr>\n",
       "  </tbody>\n",
       "</table>\n",
       "</div>"
      ],
      "text/plain": [
       "          admit;gre;gpa;rank\n",
       "0;620;4;2                NaN\n",
       "0;560;3                 04;3\n",
       "0;460;2                 63;2\n",
       "0;700;3                 65;2\n",
       "0;600;3                 89;3"
      ]
     },
     "execution_count": 45,
     "metadata": {},
     "output_type": "execute_result"
    }
   ],
   "source": [
    "data.tail ()"
   ]
  },
  {
   "cell_type": "code",
   "execution_count": null,
   "id": "5b373b45",
   "metadata": {},
   "outputs": [],
   "source": []
  },
  {
   "cell_type": "code",
   "execution_count": null,
   "id": "a6cf5c51",
   "metadata": {},
   "outputs": [],
   "source": []
  }
 ],
 "metadata": {
  "kernelspec": {
   "display_name": "Python 3 (ipykernel)",
   "language": "python",
   "name": "python3"
  },
  "language_info": {
   "codemirror_mode": {
    "name": "ipython",
    "version": 3
   },
   "file_extension": ".py",
   "mimetype": "text/x-python",
   "name": "python",
   "nbconvert_exporter": "python",
   "pygments_lexer": "ipython3",
   "version": "3.9.12"
  }
 },
 "nbformat": 4,
 "nbformat_minor": 5
}
