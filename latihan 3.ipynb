{
 "cells": [
  {
   "cell_type": "code",
   "execution_count": 1,
   "id": "5f4e9ac2",
   "metadata": {},
   "outputs": [],
   "source": [
    "def my_function(p, l):\n",
    "    \"Function untuk mengitung luas\"\n",
    "    print(p * l)"
   ]
  },
  {
   "cell_type": "code",
   "execution_count": 2,
   "id": "7835a01a",
   "metadata": {},
   "outputs": [
    {
     "name": "stdout",
     "output_type": "stream",
     "text": [
      "8\n"
     ]
    }
   ],
   "source": [
    "my_function(2,4)"
   ]
  },
  {
   "cell_type": "code",
   "execution_count": 3,
   "id": "19af9f3d",
   "metadata": {},
   "outputs": [],
   "source": [
    "def fungsi(p, l, t):\n",
    "    print(p * l * t)"
   ]
  },
  {
   "cell_type": "code",
   "execution_count": 4,
   "id": "5e127467",
   "metadata": {},
   "outputs": [
    {
     "name": "stdout",
     "output_type": "stream",
     "text": [
      "60\n"
     ]
    }
   ],
   "source": [
    "fungsi (3,4,5)"
   ]
  },
  {
   "cell_type": "code",
   "execution_count": 5,
   "id": "83a822ea",
   "metadata": {},
   "outputs": [],
   "source": [
    "def printme( str ):\n",
    "   \"This prints a passed string into this function\"\n",
    "   print(str)\n",
    "   return"
   ]
  },
  {
   "cell_type": "code",
   "execution_count": 6,
   "id": "ace567f0",
   "metadata": {},
   "outputs": [
    {
     "name": "stdout",
     "output_type": "stream",
     "text": [
      "I'm first call to user defined function!\n",
      "Again second call to the same function\n"
     ]
    }
   ],
   "source": [
    "def printme( str ):\n",
    "   \"This prints a passed string into this function\"\n",
    "   print(str)\n",
    "   return;\n",
    "\n",
    "# Now you can call printme function\n",
    "printme(\"I'm first call to user defined function!\")\n",
    "printme(\"Again second call to the same function\")"
   ]
  },
  {
   "cell_type": "code",
   "execution_count": 7,
   "id": "62fc49af",
   "metadata": {},
   "outputs": [
    {
     "name": "stdout",
     "output_type": "stream",
     "text": [
      "<class 'str'>\n"
     ]
    }
   ],
   "source": [
    "print(str)"
   ]
  },
  {
   "cell_type": "code",
   "execution_count": 8,
   "id": "d5374d90",
   "metadata": {},
   "outputs": [
    {
     "name": "stdout",
     "output_type": "stream",
     "text": [
      "<class 'str'>\n"
     ]
    }
   ],
   "source": [
    "print( str )"
   ]
  },
  {
   "cell_type": "code",
   "execution_count": 9,
   "id": "1489f06a",
   "metadata": {},
   "outputs": [
    {
     "name": "stdout",
     "output_type": "stream",
     "text": [
      "Values inside the function:  [10, 20, 30, [1, 2, 3, 4]]\n",
      "Values outside the function:  [10, 20, 30, [1, 2, 3, 4]]\n"
     ]
    }
   ],
   "source": [
    "def changeme( mylist ):\n",
    "   \"This changes a passed list into this function\"\n",
    "   mylist.append([1,2,3,4]);\n",
    "   print(\"Values inside the function: \", mylist)\n",
    "   return\n",
    "\n",
    "# Now you can call changeme function\n",
    "mylist = [10,20,30];\n",
    "changeme( mylist );\n",
    "print(\"Values outside the function: \", mylist)"
   ]
  },
  {
   "cell_type": "code",
   "execution_count": 10,
   "id": "a8d16747",
   "metadata": {},
   "outputs": [
    {
     "ename": "NameError",
     "evalue": "name 'a' is not defined",
     "output_type": "error",
     "traceback": [
      "\u001b[1;31m---------------------------------------------------------------------------\u001b[0m",
      "\u001b[1;31mNameError\u001b[0m                                 Traceback (most recent call last)",
      "Input \u001b[1;32mIn [10]\u001b[0m, in \u001b[0;36m<cell line: 9>\u001b[1;34m()\u001b[0m\n\u001b[0;32m      7\u001b[0m \u001b[38;5;66;03m# Now you can call changeme function\u001b[39;00m\n\u001b[0;32m      8\u001b[0m mylist \u001b[38;5;241m=\u001b[39m [\u001b[38;5;241m10\u001b[39m,\u001b[38;5;241m20\u001b[39m,\u001b[38;5;241m30\u001b[39m];\n\u001b[1;32m----> 9\u001b[0m \u001b[43mchangeme\u001b[49m\u001b[43m(\u001b[49m\u001b[43m \u001b[49m\u001b[43mmylist\u001b[49m\u001b[43m \u001b[49m\u001b[43m)\u001b[49m;\n\u001b[0;32m     10\u001b[0m \u001b[38;5;28mprint\u001b[39m(\u001b[38;5;124m\"\u001b[39m\u001b[38;5;124mValues outside the function: \u001b[39m\u001b[38;5;124m\"\u001b[39m, mylist)\n",
      "Input \u001b[1;32mIn [10]\u001b[0m, in \u001b[0;36mchangeme\u001b[1;34m(mylist)\u001b[0m\n\u001b[0;32m      1\u001b[0m \u001b[38;5;28;01mdef\u001b[39;00m \u001b[38;5;21mchangeme\u001b[39m( mylist ):\n\u001b[0;32m      2\u001b[0m    \u001b[38;5;124m\"\u001b[39m\u001b[38;5;124mThis changes a passed list into this function\u001b[39m\u001b[38;5;124m\"\u001b[39m\n\u001b[1;32m----> 3\u001b[0m    mylist\u001b[38;5;241m.\u001b[39mappend([\u001b[43ma\u001b[49m,s,d,f]);\n\u001b[0;32m      4\u001b[0m    \u001b[38;5;28mprint\u001b[39m(\u001b[38;5;124m\"\u001b[39m\u001b[38;5;124mValues inside the function: \u001b[39m\u001b[38;5;124m\"\u001b[39m, mylist)\n\u001b[0;32m      5\u001b[0m    \u001b[38;5;28;01mreturn\u001b[39;00m\n",
      "\u001b[1;31mNameError\u001b[0m: name 'a' is not defined"
     ]
    }
   ],
   "source": [
    "def changeme( mylist ):\n",
    "   \"This changes a passed list into this function\"\n",
    "   mylist.append([a,s,d,f]);\n",
    "   print(\"Values inside the function: \", mylist)\n",
    "   return\n",
    "\n",
    "# Now you can call changeme function\n",
    "mylist = [10,20,30];\n",
    "changeme( mylist );\n",
    "print(\"Values outside the function: \", mylist)"
   ]
  },
  {
   "cell_type": "code",
   "execution_count": 11,
   "id": "e90927aa",
   "metadata": {},
   "outputs": [
    {
     "name": "stdout",
     "output_type": "stream",
     "text": [
      "Values inside the function:  [10, 20, 30, [7, 8, 9, 0]]\n",
      "Values outside the function:  [10, 20, 30, [7, 8, 9, 0]]\n"
     ]
    }
   ],
   "source": [
    "def changeme( mylist ):\n",
    "   \"This changes a passed list into this function\"\n",
    "   mylist.append([7,8,9,0]);\n",
    "   print(\"Values inside the function: \", mylist)\n",
    "   return\n",
    "\n",
    "# Now you can call changeme function\n",
    "mylist = [10,20,30];\n",
    "changeme( mylist );\n",
    "print(\"Values outside the function: \", mylist)"
   ]
  },
  {
   "cell_type": "code",
   "execution_count": 12,
   "id": "556c1fa4",
   "metadata": {},
   "outputs": [
    {
     "name": "stdout",
     "output_type": "stream",
     "text": [
      "Values inside the function:  [1, 2, 3, 4]\n",
      "Values outside the function:  [10, 20, 30]\n"
     ]
    }
   ],
   "source": [
    "def changeme( mylist ):\n",
    "   \"This changes a passed list into this function\"\n",
    "   mylist = [1,2,3,4]; # This would assig new reference in mylist\n",
    "   print(\"Values inside the function: \", mylist)\n",
    "   return\n",
    "\n",
    "# Now you can call changeme function\n",
    "mylist = [10,20,30];\n",
    "changeme( mylist );\n",
    "print(\"Values outside the function: \", mylist)"
   ]
  },
  {
   "cell_type": "code",
   "execution_count": 13,
   "id": "9bcc7459",
   "metadata": {},
   "outputs": [
    {
     "name": "stdout",
     "output_type": "stream",
     "text": [
      "Values inside the function:  [7, 8, 9, 0]\n",
      "Values outside the function:  [10, 20, 30]\n"
     ]
    }
   ],
   "source": [
    "def changeme( mylist ):\n",
    "   \"This changes a passed list into this function\"\n",
    "   mylist = [7,8,9,0]; # This would assig new reference in mylist\n",
    "   print(\"Values inside the function: \", mylist)\n",
    "   return\n",
    "\n",
    "# Now you can call changeme function\n",
    "mylist = [10,20,30];\n",
    "changeme( mylist );\n",
    "print(\"Values outside the function: \", mylist)"
   ]
  },
  {
   "cell_type": "code",
   "execution_count": 14,
   "id": "293bc0e0",
   "metadata": {},
   "outputs": [
    {
     "ename": "TypeError",
     "evalue": "printme() missing 1 required positional argument: 'str'",
     "output_type": "error",
     "traceback": [
      "\u001b[1;31m---------------------------------------------------------------------------\u001b[0m",
      "\u001b[1;31mTypeError\u001b[0m                                 Traceback (most recent call last)",
      "Input \u001b[1;32mIn [14]\u001b[0m, in \u001b[0;36m<cell line: 8>\u001b[1;34m()\u001b[0m\n\u001b[0;32m      5\u001b[0m    \u001b[38;5;28;01mreturn\u001b[39;00m;\n\u001b[0;32m      7\u001b[0m \u001b[38;5;66;03m# Now you can call printme function\u001b[39;00m\n\u001b[1;32m----> 8\u001b[0m \u001b[43mprintme\u001b[49m\u001b[43m(\u001b[49m\u001b[43m)\u001b[49m\n",
      "\u001b[1;31mTypeError\u001b[0m: printme() missing 1 required positional argument: 'str'"
     ]
    }
   ],
   "source": [
    "# Function definition is here\n",
    "def printme( str ):\n",
    "   \"This prints a passed string into this function\"\n",
    "   print(str)\n",
    "   return;\n",
    "\n",
    "# Now you can call printme function\n",
    "printme()"
   ]
  },
  {
   "cell_type": "code",
   "execution_count": 15,
   "id": "e3fc2dd4",
   "metadata": {},
   "outputs": [
    {
     "ename": "SyntaxError",
     "evalue": "invalid syntax (2647644945.py, line 8)",
     "output_type": "error",
     "traceback": [
      "\u001b[1;36m  Input \u001b[1;32mIn [15]\u001b[1;36m\u001b[0m\n\u001b[1;33m    my list = [10,20,30]\u001b[0m\n\u001b[1;37m       ^\u001b[0m\n\u001b[1;31mSyntaxError\u001b[0m\u001b[1;31m:\u001b[0m invalid syntax\n"
     ]
    }
   ],
   "source": [
    "# Function definition is here\n",
    "def printme( str ):\n",
    "   \"This prints a passed string into this function\"\n",
    "   print(str)\n",
    "   return;\n",
    "\n",
    "# Now you can call printme function\n",
    "my list = [10,20,30]\n",
    "printme()"
   ]
  },
  {
   "cell_type": "code",
   "execution_count": null,
   "id": "e36dd59d",
   "metadata": {},
   "outputs": [],
   "source": []
  },
  {
   "cell_type": "code",
   "execution_count": null,
   "id": "70dad848",
   "metadata": {},
   "outputs": [],
   "source": []
  },
  {
   "cell_type": "code",
   "execution_count": null,
   "id": "b6893dbb",
   "metadata": {},
   "outputs": [],
   "source": []
  },
  {
   "cell_type": "code",
   "execution_count": null,
   "id": "0945259a",
   "metadata": {},
   "outputs": [],
   "source": []
  },
  {
   "cell_type": "code",
   "execution_count": 17,
   "id": "83d5d704",
   "metadata": {},
   "outputs": [
    {
     "name": "stdout",
     "output_type": "stream",
     "text": [
      "danis\n"
     ]
    }
   ],
   "source": [
    "# Function definition is here\n",
    "def printme( str ):\n",
    "   \"This prints a passed string into this function\"\n",
    "   print(str)\n",
    "   return;\n",
    "\n",
    "# Now you can call printme function\n",
    "printme(str = \"danis\")"
   ]
  },
  {
   "cell_type": "code",
   "execution_count": 18,
   "id": "55fc650e",
   "metadata": {},
   "outputs": [
    {
     "name": "stdout",
     "output_type": "stream",
     "text": [
      "Name:  a\n",
      "Age:  4\n"
     ]
    }
   ],
   "source": [
    "# Function definition is here\n",
    "def printinfo( name, age ):\n",
    "   \"This prints a passed info into this function\"\n",
    "   print(\"Name: \", name)\n",
    "   print(\"Age: \", age)\n",
    "   return;\n",
    "\n",
    "# Now you can call printinfo function\n",
    "printinfo( age=4, name=\"a\" )"
   ]
  },
  {
   "cell_type": "code",
   "execution_count": 20,
   "id": "72f0c01c",
   "metadata": {},
   "outputs": [
    {
     "name": "stdout",
     "output_type": "stream",
     "text": [
      "Name:  hacktiv8\n",
      "Age:  43\n",
      "Name:  hacktiv\n",
      "Age:  26\n"
     ]
    }
   ],
   "source": [
    "# Function definition is here\n",
    "def printinfo( name, age = 26 ):\n",
    "   \"This prints a passed info into this function\"\n",
    "   print(\"Name: \", name)\n",
    "   print(\"Age: \", age)\n",
    "   return;\n",
    "\n",
    "# Now you can call printinfo function\n",
    "printinfo( age=43, name=\"hacktiv8\" )\n",
    "printinfo( name=\"hacktiv\" )"
   ]
  },
  {
   "cell_type": "code",
   "execution_count": 21,
   "id": "cd504717",
   "metadata": {},
   "outputs": [],
   "source": [
    "# Function definition is here\n",
    "def printinfo( arg1, *vartuple ):\n",
    "   \"This prints a variable passed arguments\"\n",
    "   print(\"Output is: \")\n",
    "   print(arg1)\n",
    "   for var in vartuple:\n",
    "      print(var)\n",
    "   return;"
   ]
  },
  {
   "cell_type": "code",
   "execution_count": 22,
   "id": "c6e195f0",
   "metadata": {},
   "outputs": [
    {
     "name": "stdout",
     "output_type": "stream",
     "text": [
      "Output is: \n",
      "10\n",
      "Output is: \n",
      "70\n",
      "60\n",
      "50\n",
      "a\n"
     ]
    }
   ],
   "source": [
    "printinfo( 10 )\n",
    "printinfo( 70, 60, 50, \"a\" )"
   ]
  },
  {
   "cell_type": "code",
   "execution_count": 23,
   "id": "e58bd367",
   "metadata": {},
   "outputs": [
    {
     "name": "stdout",
     "output_type": "stream",
     "text": [
      "Output is: \n",
      "10\n",
      "Output is: \n",
      "70\n",
      "60\n",
      "50\n",
      "a\n"
     ]
    }
   ],
   "source": [
    "# Function definition is here\n",
    "def printinfo( arg1, *vartuple ):\n",
    "   \"This prints a variable passed arguments\"\n",
    "   print(\"Output is: \")\n",
    "   print(arg1)\n",
    "   for var in vartuple:\n",
    "      print(var)\n",
    "   return;\n",
    "\n",
    "# Now you can call printinfo function\n",
    "printinfo( 10 )\n",
    "printinfo( 70, 60, 50, \"a\" )"
   ]
  },
  {
   "cell_type": "code",
   "execution_count": 24,
   "id": "1d30645e",
   "metadata": {},
   "outputs": [
    {
     "ename": "NameError",
     "evalue": "name 'defprint' is not defined",
     "output_type": "error",
     "traceback": [
      "\u001b[1;31m---------------------------------------------------------------------------\u001b[0m",
      "\u001b[1;31mNameError\u001b[0m                                 Traceback (most recent call last)",
      "Input \u001b[1;32mIn [24]\u001b[0m, in \u001b[0;36m<cell line: 1>\u001b[1;34m()\u001b[0m\n\u001b[1;32m----> 1\u001b[0m \u001b[43mdefprint\u001b[49m\n",
      "\u001b[1;31mNameError\u001b[0m: name 'defprint' is not defined"
     ]
    }
   ],
   "source": [
    "defprint"
   ]
  },
  {
   "cell_type": "code",
   "execution_count": 25,
   "id": "4e955210",
   "metadata": {},
   "outputs": [
    {
     "ename": "SyntaxError",
     "evalue": "invalid syntax (662547577.py, line 1)",
     "output_type": "error",
     "traceback": [
      "\u001b[1;36m  Input \u001b[1;32mIn [25]\u001b[1;36m\u001b[0m\n\u001b[1;33m    def\u001b[0m\n\u001b[1;37m       ^\u001b[0m\n\u001b[1;31mSyntaxError\u001b[0m\u001b[1;31m:\u001b[0m invalid syntax\n"
     ]
    }
   ],
   "source": [
    "def\n",
    "print"
   ]
  },
  {
   "cell_type": "code",
   "execution_count": 26,
   "id": "0d9cff4b",
   "metadata": {},
   "outputs": [
    {
     "name": "stdout",
     "output_type": "stream",
     "text": [
      "Output is: \n",
      "10\n",
      "Output is: \n",
      "70\n",
      "60\n",
      "50\n",
      "a\n"
     ]
    }
   ],
   "source": [
    "# Function definition is here\n",
    "def printinfo( arg1, *vartuple ):\n",
    "   \"This prints a variable passed arguments\"\n",
    "   print(\"Output is: \")\n",
    "   print(arg1)\n",
    "   for var in vartuple:\n",
    "      print(var)\n",
    "   return;\n",
    "\n",
    "# Now you can call printinfo function\n",
    "printinfo( 10 )\n",
    "printinfo( 70, 60, 50, \"a\" )"
   ]
  },
  {
   "cell_type": "code",
   "execution_count": 27,
   "id": "e67e6e50",
   "metadata": {},
   "outputs": [
    {
     "ename": "IndentationError",
     "evalue": "expected an indented block (771277225.py, line 3)",
     "output_type": "error",
     "traceback": [
      "\u001b[1;36m  Input \u001b[1;32mIn [27]\u001b[1;36m\u001b[0m\n\u001b[1;33m    \"This prints a variable passed arguments\"\u001b[0m\n\u001b[1;37m    ^\u001b[0m\n\u001b[1;31mIndentationError\u001b[0m\u001b[1;31m:\u001b[0m expected an indented block\n"
     ]
    }
   ],
   "source": [
    "# Function definition is here\n",
    "def printinfo( arg1, *vartuple ):\n",
    "\"This prints a variable passed arguments\"\n",
    "   print(\"Output is: \")\n",
    "    print(arg1)\n",
    "    for var in vartuple:\n",
    "      print(var)\n",
    "    return;\n",
    "\n",
    "# Now you can call printinfo function\n",
    "printinfo( 10 )\n",
    "printinfo( 70, 60, 50, \"a\" )"
   ]
  },
  {
   "cell_type": "code",
   "execution_count": 28,
   "id": "1b04df5e",
   "metadata": {},
   "outputs": [
    {
     "name": "stdout",
     "output_type": "stream",
     "text": [
      "Value of total :  None\n",
      "Value of total :  None\n"
     ]
    }
   ],
   "source": [
    "# Function definition is here\n",
    "sum = lambda arg1, arg2: arg1 + arg2;\n",
    "\n",
    "def sum(arg1, arg2):\n",
    "    arg1 + arg2\n",
    "    \n",
    "# Now you can call sum as a function\n",
    "print(\"Value of total : \", sum( 10, 20 ))\n",
    "print(\"Value of total : \", sum( 20, 20 ))"
   ]
  },
  {
   "cell_type": "code",
   "execution_count": 29,
   "id": "a125ec1a",
   "metadata": {},
   "outputs": [
    {
     "name": "stdout",
     "output_type": "stream",
     "text": [
      "Value of total :  30\n",
      "Value of total :  40\n"
     ]
    }
   ],
   "source": [
    "# Function definition is here\n",
    "sum = lambda arg1, arg2: arg1 + arg2;\n",
    "\n",
    "    \n",
    "# Now you can call sum as a function\n",
    "print(\"Value of total : \", sum( 10, 20 ))\n",
    "print(\"Value of total : \", sum( 20, 20 ))"
   ]
  },
  {
   "cell_type": "code",
   "execution_count": 30,
   "id": "8eb3453f",
   "metadata": {},
   "outputs": [
    {
     "data": {
      "text/plain": [
       "50"
      ]
     },
     "execution_count": 30,
     "metadata": {},
     "output_type": "execute_result"
    }
   ],
   "source": [
    "sum(10,40)"
   ]
  },
  {
   "cell_type": "code",
   "execution_count": 31,
   "id": "40d80ff4",
   "metadata": {},
   "outputs": [
    {
     "data": {
      "text/plain": [
       "50"
      ]
     },
     "execution_count": 31,
     "metadata": {},
     "output_type": "execute_result"
    }
   ],
   "source": [
    "10+40"
   ]
  },
  {
   "cell_type": "code",
   "execution_count": 32,
   "id": "66f71b78",
   "metadata": {},
   "outputs": [
    {
     "name": "stdout",
     "output_type": "stream",
     "text": [
      "Value of total :  200\n",
      "Value of total :  400\n"
     ]
    }
   ],
   "source": [
    "# Function definition is here\n",
    "sum = lambda arg1, arg2: arg1 * arg2;\n",
    "\n",
    "    \n",
    "# Now you can call sum as a function\n",
    "print(\"Value of total : \", sum( 10, 20 ))\n",
    "print(\"Value of total : \", sum( 20, 20 ))"
   ]
  },
  {
   "cell_type": "code",
   "execution_count": 33,
   "id": "e72bf7e0",
   "metadata": {},
   "outputs": [
    {
     "name": "stdout",
     "output_type": "stream",
     "text": [
      "Inside the function :  30\n",
      "Outside the function :  40\n"
     ]
    }
   ],
   "source": [
    "# Function definition is here\n",
    "def sum(arg1, arg2):\n",
    "    # Add both the parameters and return them.\"\n",
    "    total = arg1 + arg2\n",
    "    total2 = total + arg1\n",
    "    print(\"Inside the function : \", total)\n",
    "    return total2\n",
    "\n",
    "# Now you can call sum function\n",
    "total = sum(10, 20)\n",
    "print(\"Outside the function : \", total)"
   ]
  },
  {
   "cell_type": "code",
   "execution_count": 34,
   "id": "0ad84b5a",
   "metadata": {},
   "outputs": [
    {
     "data": {
      "text/plain": [
       "50"
      ]
     },
     "execution_count": 34,
     "metadata": {},
     "output_type": "execute_result"
    }
   ],
   "source": [
    "10+40"
   ]
  },
  {
   "cell_type": "code",
   "execution_count": 35,
   "id": "1370fb0f",
   "metadata": {},
   "outputs": [
    {
     "ename": "NameError",
     "evalue": "name 'arg1' is not defined",
     "output_type": "error",
     "traceback": [
      "\u001b[1;31m---------------------------------------------------------------------------\u001b[0m",
      "\u001b[1;31mNameError\u001b[0m                                 Traceback (most recent call last)",
      "Input \u001b[1;32mIn [35]\u001b[0m, in \u001b[0;36m<cell line: 1>\u001b[1;34m()\u001b[0m\n\u001b[1;32m----> 1\u001b[0m \u001b[38;5;28msum\u001b[39m(\u001b[43marg1\u001b[49m, arg2)\n",
      "\u001b[1;31mNameError\u001b[0m: name 'arg1' is not defined"
     ]
    }
   ],
   "source": [
    "sum(arg1, arg2)"
   ]
  },
  {
   "cell_type": "code",
   "execution_count": 36,
   "id": "9f3d1c88",
   "metadata": {},
   "outputs": [
    {
     "ename": "IndentationError",
     "evalue": "expected an indented block (2357666270.py, line 12)",
     "output_type": "error",
     "traceback": [
      "\u001b[1;36m  Input \u001b[1;32mIn [36]\u001b[1;36m\u001b[0m\n\u001b[1;33m    sum( 10, 20 );\u001b[0m\n\u001b[1;37m    ^\u001b[0m\n\u001b[1;31mIndentationError\u001b[0m\u001b[1;31m:\u001b[0m expected an indented block\n"
     ]
    }
   ],
   "source": [
    "total = 0; \n",
    "\n",
    "def sum( arg1, arg2 ):\n",
    "\n",
    "   total = arg1 + arg2; \n",
    "   print(\"Inside the function local total : \", total)\n",
    "   return total;\n",
    "\n",
    "def min():\n",
    "    \n",
    "\n",
    "sum( 10, 20 );\n",
    "print(\"Outside the function global total : \", total)"
   ]
  },
  {
   "cell_type": "code",
   "execution_count": 37,
   "id": "d1e77cd6",
   "metadata": {},
   "outputs": [
    {
     "name": "stdout",
     "output_type": "stream",
     "text": [
      "Inside the function local total :  30\n",
      "Outside the function global total :  0\n"
     ]
    }
   ],
   "source": [
    "total = 0; \n",
    "\n",
    "def sum( arg1, arg2 ):\n",
    "\n",
    "   total = arg1 + arg2; \n",
    "   print(\"Inside the function local total : \", total)\n",
    "   return total;\n",
    "\n",
    "    \n",
    "\n",
    "sum( 10, 20 );\n",
    "print(\"Outside the function global total : \", total)"
   ]
  },
  {
   "cell_type": "code",
   "execution_count": 38,
   "id": "495632b0",
   "metadata": {},
   "outputs": [
    {
     "ename": "IndentationError",
     "evalue": "expected an indented block (2357666270.py, line 12)",
     "output_type": "error",
     "traceback": [
      "\u001b[1;36m  Input \u001b[1;32mIn [38]\u001b[1;36m\u001b[0m\n\u001b[1;33m    sum( 10, 20 );\u001b[0m\n\u001b[1;37m    ^\u001b[0m\n\u001b[1;31mIndentationError\u001b[0m\u001b[1;31m:\u001b[0m expected an indented block\n"
     ]
    }
   ],
   "source": [
    "total = 0; \n",
    "\n",
    "def sum( arg1, arg2 ):\n",
    "\n",
    "   total = arg1 + arg2; \n",
    "   print(\"Inside the function local total : \", total)\n",
    "   return total;\n",
    "\n",
    "def min():\n",
    "    \n",
    "\n",
    "sum( 10, 20 );\n",
    "print(\"Outside the function global total : \", total)"
   ]
  },
  {
   "cell_type": "code",
   "execution_count": 39,
   "id": "4596de24",
   "metadata": {},
   "outputs": [
    {
     "data": {
      "text/plain": [
       "40"
      ]
     },
     "execution_count": 39,
     "metadata": {},
     "output_type": "execute_result"
    }
   ],
   "source": [
    "jumlahKucing = 20\n",
    "\n",
    "def jumlahHewan():\n",
    "    jumlahAnjing = 30\n",
    "    return jumlahKucing + jumlahAnjing\n",
    "\n",
    "def jumlahKelinci():\n",
    "    return jumlahKucing + jumlahKucing\n",
    "\n",
    "jumlahHewan()\n",
    "jumlahKelinci()"
   ]
  },
  {
   "cell_type": "code",
   "execution_count": 40,
   "id": "d1fab782",
   "metadata": {},
   "outputs": [
    {
     "ename": "NameError",
     "evalue": "name 'jumlahkelinci' is not defined",
     "output_type": "error",
     "traceback": [
      "\u001b[1;31m---------------------------------------------------------------------------\u001b[0m",
      "\u001b[1;31mNameError\u001b[0m                                 Traceback (most recent call last)",
      "Input \u001b[1;32mIn [40]\u001b[0m, in \u001b[0;36m<cell line: 1>\u001b[1;34m()\u001b[0m\n\u001b[1;32m----> 1\u001b[0m \u001b[43mjumlahkelinci\u001b[49m\n",
      "\u001b[1;31mNameError\u001b[0m: name 'jumlahkelinci' is not defined"
     ]
    }
   ],
   "source": [
    "jumlahkelinci"
   ]
  },
  {
   "cell_type": "code",
   "execution_count": 41,
   "id": "2274ecb8",
   "metadata": {},
   "outputs": [
    {
     "ename": "NameError",
     "evalue": "name 'jumlahkelinci' is not defined",
     "output_type": "error",
     "traceback": [
      "\u001b[1;31m---------------------------------------------------------------------------\u001b[0m",
      "\u001b[1;31mNameError\u001b[0m                                 Traceback (most recent call last)",
      "Input \u001b[1;32mIn [41]\u001b[0m, in \u001b[0;36m<cell line: 1>\u001b[1;34m()\u001b[0m\n\u001b[1;32m----> 1\u001b[0m \u001b[43mjumlahkelinci\u001b[49m()\n",
      "\u001b[1;31mNameError\u001b[0m: name 'jumlahkelinci' is not defined"
     ]
    }
   ],
   "source": [
    "jumlahkelinci()"
   ]
  },
  {
   "cell_type": "code",
   "execution_count": 42,
   "id": "c570a530",
   "metadata": {},
   "outputs": [
    {
     "data": {
      "text/plain": [
       "40"
      ]
     },
     "execution_count": 42,
     "metadata": {},
     "output_type": "execute_result"
    }
   ],
   "source": [
    "jumlahKucing = 20\n",
    "\n",
    "def jumlahHewan():\n",
    "    jumlahAnjing = 30\n",
    "    return jumlahKucing + jumlahAnjing\n",
    "\n",
    "def jumlahKelinci():\n",
    "    return jumlahKucing + jumlahKucing\n",
    "\n",
    "jumlahHewan()\n",
    "jumlahKelinci()"
   ]
  },
  {
   "cell_type": "code",
   "execution_count": 43,
   "id": "2e03eb84",
   "metadata": {},
   "outputs": [
    {
     "data": {
      "text/plain": [
       "20"
      ]
     },
     "execution_count": 43,
     "metadata": {},
     "output_type": "execute_result"
    }
   ],
   "source": [
    "jumlahKucing = 10\n",
    "\n",
    "def jumlahHewan():\n",
    "    jumlahAnjing = 30\n",
    "    return jumlahKucing + jumlahAnjing\n",
    "\n",
    "def jumlahKelinci():\n",
    "    return jumlahKucing + jumlahKucing\n",
    "\n",
    "jumlahHewan()\n",
    "jumlahKelinci()"
   ]
  },
  {
   "cell_type": "code",
   "execution_count": 44,
   "id": "b9e22661",
   "metadata": {},
   "outputs": [
    {
     "ename": "NameError",
     "evalue": "name 'jumlahkelinci' is not defined",
     "output_type": "error",
     "traceback": [
      "\u001b[1;31m---------------------------------------------------------------------------\u001b[0m",
      "\u001b[1;31mNameError\u001b[0m                                 Traceback (most recent call last)",
      "Input \u001b[1;32mIn [44]\u001b[0m, in \u001b[0;36m<cell line: 1>\u001b[1;34m()\u001b[0m\n\u001b[1;32m----> 1\u001b[0m \u001b[43mjumlahkelinci\u001b[49m()\n",
      "\u001b[1;31mNameError\u001b[0m: name 'jumlahkelinci' is not defined"
     ]
    }
   ],
   "source": [
    "jumlahkelinci()\n"
   ]
  },
  {
   "cell_type": "code",
   "execution_count": 45,
   "id": "0d88997c",
   "metadata": {},
   "outputs": [
    {
     "data": {
      "text/plain": [
       "40"
      ]
     },
     "execution_count": 45,
     "metadata": {},
     "output_type": "execute_result"
    }
   ],
   "source": [
    "jumlahKucing = 20\n",
    "\n",
    "def jumlahHewan():\n",
    "    jumlahAnjing = 30\n",
    "    return jumlahKucing + jumlahAnjing\n",
    "\n",
    "def jumlahKelinci():\n",
    "    return jumlahKucing + jumlahKucing\n",
    "\n",
    "jumlahHewan()\n",
    "jumlahKelinci()"
   ]
  },
  {
   "cell_type": "code",
   "execution_count": 46,
   "id": "d984275f",
   "metadata": {},
   "outputs": [
    {
     "data": {
      "text/plain": [
       "40"
      ]
     },
     "execution_count": 46,
     "metadata": {},
     "output_type": "execute_result"
    }
   ],
   "source": [
    "jumlahKelinci()"
   ]
  },
  {
   "cell_type": "code",
   "execution_count": 47,
   "id": "9c10aff2",
   "metadata": {},
   "outputs": [
    {
     "data": {
      "text/plain": [
       "50"
      ]
     },
     "execution_count": 47,
     "metadata": {},
     "output_type": "execute_result"
    }
   ],
   "source": [
    "jumlahHewan()"
   ]
  },
  {
   "cell_type": "code",
   "execution_count": 48,
   "id": "7779d12d",
   "metadata": {},
   "outputs": [
    {
     "data": {
      "text/plain": [
       "40"
      ]
     },
     "execution_count": 48,
     "metadata": {},
     "output_type": "execute_result"
    }
   ],
   "source": [
    "jumlahKelinci()"
   ]
  },
  {
   "cell_type": "code",
   "execution_count": 49,
   "id": "7ff3c75e",
   "metadata": {},
   "outputs": [
    {
     "ename": "NameError",
     "evalue": "name 'jumlahAnjing' is not defined",
     "output_type": "error",
     "traceback": [
      "\u001b[1;31m---------------------------------------------------------------------------\u001b[0m",
      "\u001b[1;31mNameError\u001b[0m                                 Traceback (most recent call last)",
      "Input \u001b[1;32mIn [49]\u001b[0m, in \u001b[0;36m<cell line: 14>\u001b[1;34m()\u001b[0m\n\u001b[0;32m     11\u001b[0m     \u001b[38;5;28;01mreturn\u001b[39;00m jumlahAnjing \u001b[38;5;241m+\u001b[39m jumlahAnjing\n\u001b[0;32m     13\u001b[0m jumlahHewan()\n\u001b[1;32m---> 14\u001b[0m \u001b[43mjumlahKelinci\u001b[49m\u001b[43m(\u001b[49m\u001b[43m)\u001b[49m\n",
      "Input \u001b[1;32mIn [49]\u001b[0m, in \u001b[0;36mjumlahKelinci\u001b[1;34m()\u001b[0m\n\u001b[0;32m     10\u001b[0m \u001b[38;5;28;01mdef\u001b[39;00m \u001b[38;5;21mjumlahKelinci\u001b[39m():\n\u001b[1;32m---> 11\u001b[0m     \u001b[38;5;28;01mreturn\u001b[39;00m \u001b[43mjumlahAnjing\u001b[49m \u001b[38;5;241m+\u001b[39m jumlahAnjing\n",
      "\u001b[1;31mNameError\u001b[0m: name 'jumlahAnjing' is not defined"
     ]
    }
   ],
   "source": [
    "jumlahKucing = 20\n",
    "\n",
    "def jumlahHewan():\n",
    "    jumlahAnjing = 30\n",
    "    return jumlahKucing + jumlahAnjing\n",
    "\n",
    "def jumlahKelinci():\n",
    "    return jumlahKucing + jumlahKucing\n",
    "\n",
    "def jumlahKelinci():\n",
    "    return jumlahAnjing + jumlahAnjing\n",
    "\n",
    "jumlahHewan()\n",
    "jumlahKelinci()"
   ]
  },
  {
   "cell_type": "code",
   "execution_count": 51,
   "id": "3a3a876c",
   "metadata": {},
   "outputs": [
    {
     "ename": "TypeError",
     "evalue": "unsupported operand type(s) for +: 'function' and 'function'",
     "output_type": "error",
     "traceback": [
      "\u001b[1;31m---------------------------------------------------------------------------\u001b[0m",
      "\u001b[1;31mTypeError\u001b[0m                                 Traceback (most recent call last)",
      "Input \u001b[1;32mIn [51]\u001b[0m, in \u001b[0;36m<cell line: 13>\u001b[1;34m()\u001b[0m\n\u001b[0;32m     11\u001b[0m jumlahHewan()\n\u001b[0;32m     12\u001b[0m jumlahKelinci()\n\u001b[1;32m---> 13\u001b[0m \u001b[43mjumlahAnjing\u001b[49m\u001b[43m(\u001b[49m\u001b[43m)\u001b[49m\n",
      "Input \u001b[1;32mIn [51]\u001b[0m, in \u001b[0;36mjumlahAnjing\u001b[1;34m()\u001b[0m\n\u001b[0;32m      8\u001b[0m \u001b[38;5;28;01mdef\u001b[39;00m \u001b[38;5;21mjumlahAnjing\u001b[39m():\n\u001b[1;32m----> 9\u001b[0m     \u001b[38;5;28;01mreturn\u001b[39;00m \u001b[43mjumlahAnjing\u001b[49m\u001b[43m \u001b[49m\u001b[38;5;241;43m+\u001b[39;49m\u001b[43m \u001b[49m\u001b[43mjumlahAnjing\u001b[49m\n",
      "\u001b[1;31mTypeError\u001b[0m: unsupported operand type(s) for +: 'function' and 'function'"
     ]
    }
   ],
   "source": [
    "def jumlahHewan():\n",
    "    jumlahAnjing = 30\n",
    "    return jumlahKucing + jumlahAnjing\n",
    "\n",
    "def jumlahKelinci():\n",
    "    return jumlahKucing + jumlahKucing\n",
    "\n",
    "def jumlahAnjing():\n",
    "    return jumlahAnjing + jumlahAnjing\n",
    "\n",
    "jumlahHewan()\n",
    "jumlahKelinci()\n",
    "jumlahAnjing()"
   ]
  },
  {
   "cell_type": "code",
   "execution_count": 52,
   "id": "2a449bbf",
   "metadata": {},
   "outputs": [
    {
     "ename": "TypeError",
     "evalue": "unsupported operand type(s) for +: 'function' and 'function'",
     "output_type": "error",
     "traceback": [
      "\u001b[1;31m---------------------------------------------------------------------------\u001b[0m",
      "\u001b[1;31mTypeError\u001b[0m                                 Traceback (most recent call last)",
      "Input \u001b[1;32mIn [52]\u001b[0m, in \u001b[0;36m<cell line: 13>\u001b[1;34m()\u001b[0m\n\u001b[0;32m     11\u001b[0m jumlahHewan()\n\u001b[0;32m     12\u001b[0m jumlahKelinci()\n\u001b[1;32m---> 13\u001b[0m \u001b[43mjumlahAnjing\u001b[49m\u001b[43m(\u001b[49m\u001b[43m)\u001b[49m\n",
      "Input \u001b[1;32mIn [52]\u001b[0m, in \u001b[0;36mjumlahAnjing\u001b[1;34m()\u001b[0m\n\u001b[0;32m      8\u001b[0m \u001b[38;5;28;01mdef\u001b[39;00m \u001b[38;5;21mjumlahAnjing\u001b[39m():\n\u001b[1;32m----> 9\u001b[0m     \u001b[38;5;28;01mreturn\u001b[39;00m \u001b[43mjumlahAnjing\u001b[49m\u001b[43m \u001b[49m\u001b[38;5;241;43m+\u001b[39;49m\u001b[43m \u001b[49m\u001b[43mjumlahAnjing\u001b[49m\n",
      "\u001b[1;31mTypeError\u001b[0m: unsupported operand type(s) for +: 'function' and 'function'"
     ]
    }
   ],
   "source": [
    "def jumlahHewan():\n",
    "    jumlahAnjing = 30\n",
    "    return jumlahKucing + jumlahAnjing\n",
    "\n",
    "def jumlahKelinci():\n",
    "    return jumlahKucing + jumlahKucing\n",
    "\n",
    "def jumlahAnjing():\n",
    "    return jumlahAnjing + jumlahAnjing\n",
    "\n",
    "jumlahHewan()\n",
    "jumlahKelinci()\n",
    "jumlahAnjing()"
   ]
  },
  {
   "cell_type": "code",
   "execution_count": 53,
   "id": "8669d607",
   "metadata": {},
   "outputs": [
    {
     "ename": "TypeError",
     "evalue": "unsupported operand type(s) for +: 'function' and 'function'",
     "output_type": "error",
     "traceback": [
      "\u001b[1;31m---------------------------------------------------------------------------\u001b[0m",
      "\u001b[1;31mTypeError\u001b[0m                                 Traceback (most recent call last)",
      "Input \u001b[1;32mIn [53]\u001b[0m, in \u001b[0;36m<cell line: 13>\u001b[1;34m()\u001b[0m\n\u001b[0;32m     11\u001b[0m jumlahHewan()\n\u001b[0;32m     12\u001b[0m jumlahKelinci()\n\u001b[1;32m---> 13\u001b[0m \u001b[43mjumlahBurung\u001b[49m\u001b[43m(\u001b[49m\u001b[43m)\u001b[49m\n",
      "Input \u001b[1;32mIn [53]\u001b[0m, in \u001b[0;36mjumlahBurung\u001b[1;34m()\u001b[0m\n\u001b[0;32m      8\u001b[0m \u001b[38;5;28;01mdef\u001b[39;00m \u001b[38;5;21mjumlahBurung\u001b[39m():\n\u001b[1;32m----> 9\u001b[0m     \u001b[38;5;28;01mreturn\u001b[39;00m \u001b[43mjumlahAnjing\u001b[49m\u001b[43m \u001b[49m\u001b[38;5;241;43m+\u001b[39;49m\u001b[43m \u001b[49m\u001b[43mjumlahAnjing\u001b[49m\n",
      "\u001b[1;31mTypeError\u001b[0m: unsupported operand type(s) for +: 'function' and 'function'"
     ]
    }
   ],
   "source": [
    "def jumlahHewan():\n",
    "    jumlahAnjing = 30\n",
    "    return jumlahKucing + jumlahAnjing\n",
    "\n",
    "def jumlahKelinci():\n",
    "    return jumlahKucing + jumlahKucing\n",
    "\n",
    "def jumlahBurung():\n",
    "    return jumlahAnjing + jumlahAnjing\n",
    "\n",
    "jumlahHewan()\n",
    "jumlahKelinci()\n",
    "jumlahBurung()"
   ]
  },
  {
   "cell_type": "code",
   "execution_count": 54,
   "id": "54d8e2bd",
   "metadata": {},
   "outputs": [
    {
     "name": "stdout",
     "output_type": "stream",
     "text": [
      "['1', '3', '5', '7']\n"
     ]
    }
   ],
   "source": [
    "ganjil = ['1', '3', '5', '7']\n",
    "print(ganjil)"
   ]
  },
  {
   "cell_type": "code",
   "execution_count": 55,
   "id": "e63766db",
   "metadata": {},
   "outputs": [],
   "source": [
    "genap = ['2', '4', '6', '8']"
   ]
  },
  {
   "cell_type": "code",
   "execution_count": 56,
   "id": "f8f466a3",
   "metadata": {},
   "outputs": [
    {
     "data": {
      "text/plain": [
       "['2', '4', '6', '8']"
      ]
     },
     "execution_count": 56,
     "metadata": {},
     "output_type": "execute_result"
    }
   ],
   "source": [
    "genap"
   ]
  },
  {
   "cell_type": "code",
   "execution_count": 57,
   "id": "675e394f",
   "metadata": {},
   "outputs": [
    {
     "data": {
      "text/plain": [
       "['1', '3', '5', '7']"
      ]
     },
     "execution_count": 57,
     "metadata": {},
     "output_type": "execute_result"
    }
   ],
   "source": [
    "ganjil"
   ]
  },
  {
   "cell_type": "code",
   "execution_count": 58,
   "id": "3f34ad97",
   "metadata": {},
   "outputs": [
    {
     "name": "stdout",
     "output_type": "stream",
     "text": [
      "masukan angka, eg. 2, 3: 2\n"
     ]
    },
    {
     "ename": "NameError",
     "evalue": "name 'a' is not defined",
     "output_type": "error",
     "traceback": [
      "\u001b[1;31m---------------------------------------------------------------------------\u001b[0m",
      "\u001b[1;31mNameError\u001b[0m                                 Traceback (most recent call last)",
      "Input \u001b[1;32mIn [58]\u001b[0m, in \u001b[0;36m<cell line: 3>\u001b[1;34m()\u001b[0m\n\u001b[0;32m      1\u001b[0m angka \u001b[38;5;241m=\u001b[39m \u001b[38;5;28minput\u001b[39m(\u001b[38;5;124m\"\u001b[39m\u001b[38;5;124mmasukan angka, eg. 2, 3: \u001b[39m\u001b[38;5;124m\"\u001b[39m)\n\u001b[1;32m----> 3\u001b[0m \u001b[38;5;28;01mif\u001b[39;00m \u001b[43ma\u001b[49m \u001b[38;5;241m==\u001b[39m \u001b[38;5;124m\"\u001b[39m\u001b[38;5;124mganjil\u001b[39m\u001b[38;5;124m\"\u001b[39m:\n\u001b[0;32m      4\u001b[0m     result \u001b[38;5;241m=\u001b[39m \u001b[38;5;124m\"\u001b[39m\u001b[38;5;124mbilangan termasuk ganjil\u001b[39m\u001b[38;5;124m\"\u001b[39m\n\u001b[0;32m      5\u001b[0m \u001b[38;5;28;01melif\u001b[39;00m b \u001b[38;5;241m==\u001b[39m \u001b[38;5;124m\"\u001b[39m\u001b[38;5;124mgenap\u001b[39m\u001b[38;5;124m\"\u001b[39m:\n",
      "\u001b[1;31mNameError\u001b[0m: name 'a' is not defined"
     ]
    }
   ],
   "source": [
    "angka = input(\"masukan angka, eg. 2, 3: \")\n",
    "\n",
    "if a == \"ganjil\":\n",
    "    result = \"bilangan termasuk ganjil\"\n",
    "elif b == \"genap\":\n",
    "    result = \"bilangan termasuk  genap\"\n",
    "else:\n",
    "    print(\"Masukan input yang benar\")\n",
    "\n",
    "print(\"a adalah\", result, \"derajat\")"
   ]
  },
  {
   "cell_type": "code",
   "execution_count": 59,
   "id": "16b6b9ce",
   "metadata": {},
   "outputs": [
    {
     "name": "stdout",
     "output_type": "stream",
     "text": [
      "masukan angka, eg. 2, 3: 23\n"
     ]
    },
    {
     "ename": "NameError",
     "evalue": "name 'b' is not defined",
     "output_type": "error",
     "traceback": [
      "\u001b[1;31m---------------------------------------------------------------------------\u001b[0m",
      "\u001b[1;31mNameError\u001b[0m                                 Traceback (most recent call last)",
      "Input \u001b[1;32mIn [59]\u001b[0m, in \u001b[0;36m<cell line: 3>\u001b[1;34m()\u001b[0m\n\u001b[0;32m      3\u001b[0m \u001b[38;5;28;01mif\u001b[39;00m ganjil \u001b[38;5;241m==\u001b[39m \u001b[38;5;124m\"\u001b[39m\u001b[38;5;124mganjil\u001b[39m\u001b[38;5;124m\"\u001b[39m:\n\u001b[0;32m      4\u001b[0m     result \u001b[38;5;241m=\u001b[39m \u001b[38;5;124m\"\u001b[39m\u001b[38;5;124mbilangan termasuk ganjil\u001b[39m\u001b[38;5;124m\"\u001b[39m\n\u001b[1;32m----> 5\u001b[0m \u001b[38;5;28;01melif\u001b[39;00m \u001b[43mb\u001b[49m \u001b[38;5;241m==\u001b[39m \u001b[38;5;124m\"\u001b[39m\u001b[38;5;124mgenap\u001b[39m\u001b[38;5;124m\"\u001b[39m:\n\u001b[0;32m      6\u001b[0m     result \u001b[38;5;241m=\u001b[39m \u001b[38;5;124m\"\u001b[39m\u001b[38;5;124mbilangan termasuk  genap\u001b[39m\u001b[38;5;124m\"\u001b[39m\n\u001b[0;32m      7\u001b[0m \u001b[38;5;28;01melse\u001b[39;00m:\n",
      "\u001b[1;31mNameError\u001b[0m: name 'b' is not defined"
     ]
    }
   ],
   "source": [
    "angka = input(\"masukan angka, eg. 2, 3: \")\n",
    "\n",
    "if ganjil == \"ganjil\":\n",
    "    result = \"bilangan termasuk ganjil\"\n",
    "elif b == \"genap\":\n",
    "    result = \"bilangan termasuk  genap\"\n",
    "else:\n",
    "    print(\"Masukan input yang benar\")\n",
    "\n",
    "print(\"a adalah\", result, \"derajat\")\n"
   ]
  },
  {
   "cell_type": "code",
   "execution_count": 60,
   "id": "16b5c00d",
   "metadata": {},
   "outputs": [
    {
     "name": "stdout",
     "output_type": "stream",
     "text": [
      "Masukkan angka: 40\n",
      "bilangan \"x\" adalah bilangan genap\n"
     ]
    }
   ],
   "source": [
    "x = int(input('Masukkan angka: '))\n",
    "print('bilangan \"x\" adalah bilangan', 'genap' if (x % 2 == 0) else 'ganjil')"
   ]
  },
  {
   "cell_type": "code",
   "execution_count": 61,
   "id": "742aa179",
   "metadata": {},
   "outputs": [
    {
     "ename": "SyntaxError",
     "evalue": "invalid syntax (701060322.py, line 2)",
     "output_type": "error",
     "traceback": [
      "\u001b[1;36m  Input \u001b[1;32mIn [61]\u001b[1;36m\u001b[0m\n\u001b[1;33m    print('bilangan tersebut adalah bilangan', 'genap' ?if (x % 2 == 0) else 'ganjil')\u001b[0m\n\u001b[1;37m                                                       ^\u001b[0m\n\u001b[1;31mSyntaxError\u001b[0m\u001b[1;31m:\u001b[0m invalid syntax\n"
     ]
    }
   ],
   "source": [
    "x = int(input('Masukkan angka: '))\n",
    "print('bilangan tersebut adalah bilangan', 'genap' ?if (x % 2 == 0) else 'ganjil')"
   ]
  },
  {
   "cell_type": "code",
   "execution_count": 62,
   "id": "bdc89c74",
   "metadata": {},
   "outputs": [
    {
     "name": "stdout",
     "output_type": "stream",
     "text": [
      "Masukkan angka: 5\n",
      "bilangan \"x\" adalah bilangan ganjil\n"
     ]
    }
   ],
   "source": [
    "x = int(input('Masukkan angka: '))\n",
    "print('bilangan \"x\" adalah bilangan', 'genap' if (x % 2 == 0) else 'ganjil')"
   ]
  },
  {
   "cell_type": "code",
   "execution_count": 63,
   "id": "1fbb600a",
   "metadata": {},
   "outputs": [
    {
     "name": "stdout",
     "output_type": "stream",
     "text": [
      "Masukkan angka: 1\n",
      "Ketikan temperatur yang ingin dikonversi, eg. 45F, 120C: 23 C\n",
      "Temperaturnya adalah 73 derajat\n"
     ]
    }
   ],
   "source": [
    "x = int(input('Masukkan angka: '))\n",
    "temp = input(\"Ketikan temperatur yang ingin dikonversi, eg. 45F, 120C: \")\n",
    "degree = int(temp[:-1])\n",
    "i_convertion = temp[-1]\n",
    "\n",
    "if i_convertion == \"C\":\n",
    "    result = int(round((9 * degree) / 5 + 32))\n",
    "elif i_convertion == \"F\":\n",
    "    result = int(round((degree - 32) * 5 / 9))\n",
    "else:\n",
    "    print(\"Masukan input yang benar\")\n",
    "\n",
    "print(\"Temperaturnya adalah\", result, \"derajat\")"
   ]
  },
  {
   "cell_type": "code",
   "execution_count": 64,
   "id": "8284c7a9",
   "metadata": {},
   "outputs": [
    {
     "name": "stdout",
     "output_type": "stream",
     "text": [
      "Ketikan temperatur yang ingin dikonversi, eg. 45F, 120C: 45\n",
      "Masukan input yang benar\n",
      "Temperaturnya adalah 73 derajat\n"
     ]
    }
   ],
   "source": [
    "temp = input(\"Ketikan temperatur yang ingin dikonversi, eg. 45F, 120C: \")\n",
    "degree = int(temp[:-1])\n",
    "i_convertion = temp[-1]\n",
    "\n",
    "if i_convertion == \"C\":\n",
    "    result = int(round((9 * degree) / 5 + 32))\n",
    "elif i_convertion == \"F\":\n",
    "    result = int(round((degree - 32) * 5 / 9))\n",
    "else:\n",
    "    print(\"Masukan input yang benar\")\n",
    "\n",
    "print(\"Temperaturnya adalah\", result, \"derajat\")"
   ]
  },
  {
   "cell_type": "code",
   "execution_count": 65,
   "id": "c9e8a246",
   "metadata": {},
   "outputs": [
    {
     "name": "stdout",
     "output_type": "stream",
     "text": [
      "Masukkan angka: 30\n",
      "bilangan \"x\" adalah bilangan genap\n"
     ]
    }
   ],
   "source": [
    "x = int(input('Masukkan angka: '))\n",
    "print('bilangan \"x\" adalah bilangan', 'genap' if (x % 2 == 0) else 'ganjil')"
   ]
  },
  {
   "cell_type": "code",
   "execution_count": 66,
   "id": "3426c8b8",
   "metadata": {},
   "outputs": [
    {
     "name": "stdout",
     "output_type": "stream",
     "text": [
      "Masukkan angka: 3\n",
      "bilangan \"x\" adalah bilangan ganjil\n"
     ]
    }
   ],
   "source": [
    "x = int(input('Masukkan angka: '))\n",
    "print('bilangan \"x\" adalah bilangan', 'genap' if (x % 2 == 0) else 'ganjil')"
   ]
  },
  {
   "cell_type": "code",
   "execution_count": 67,
   "id": "6297f5f0",
   "metadata": {},
   "outputs": [
    {
     "name": "stdout",
     "output_type": "stream",
     "text": [
      "Masukkan angka: 90\n",
      "bilangan \"x\" adalah bilangan genap\n"
     ]
    }
   ],
   "source": [
    "x = int(input('Masukkan angka: '))\n",
    "print('bilangan \"x\" adalah bilangan', 'genap' if (x % 2 == 0) else 'ganjil')"
   ]
  },
  {
   "cell_type": "code",
   "execution_count": 68,
   "id": "487c3673",
   "metadata": {},
   "outputs": [
    {
     "name": "stdout",
     "output_type": "stream",
     "text": [
      "Masukkan angka: 45\n",
      "bilangan \"x\" adalah bilangan ganjil\n"
     ]
    }
   ],
   "source": [
    "x = int(input('Masukkan angka: '))\n",
    "print('bilangan \"x\" adalah bilangan', 'genap' if (x % 2 == 0) else 'ganjil')"
   ]
  },
  {
   "cell_type": "code",
   "execution_count": 69,
   "id": "b0eea191",
   "metadata": {},
   "outputs": [
    {
     "ename": "SyntaxError",
     "evalue": "invalid syntax (2442687723.py, line 2)",
     "output_type": "error",
     "traceback": [
      "\u001b[1;36m  Input \u001b[1;32mIn [69]\u001b[1;36m\u001b[0m\n\u001b[1;33m    int('bilangan \"x\" adalah bilangan', 'genap' if (x 2/100 == 0) else 'ganjil')\u001b[0m\n\u001b[1;37m                                                      ^\u001b[0m\n\u001b[1;31mSyntaxError\u001b[0m\u001b[1;31m:\u001b[0m invalid syntax\n"
     ]
    }
   ],
   "source": [
    "x = int(input('Masukkan angka: '))\n",
    "int('bilangan \"x\" adalah bilangan', 'genap' if (x 2/100 == 0) else 'ganjil')"
   ]
  },
  {
   "cell_type": "code",
   "execution_count": 70,
   "id": "a8eb06f4",
   "metadata": {},
   "outputs": [
    {
     "name": "stdout",
     "output_type": "stream",
     "text": [
      "Masukkan angka: 40\n",
      "bilangan \"x\" adalah bilangan ganjil\n"
     ]
    }
   ],
   "source": [
    "x = int(input('Masukkan angka: '))\n",
    "print('bilangan \"x\" adalah bilangan', 'genap' if (x * 2 / 100 == 0) else 'ganjil')"
   ]
  },
  {
   "cell_type": "code",
   "execution_count": 71,
   "id": "0b8bb016",
   "metadata": {},
   "outputs": [
    {
     "name": "stdout",
     "output_type": "stream",
     "text": [
      "Masukkan angka: 43\n",
      "bilangan tersebut adalah bilangan ganjil\n"
     ]
    }
   ],
   "source": [
    "x = int(input('Masukkan angka: '))\n",
    "print('bilangan tersebut adalah bilangan', 'genap' if (x * 2 / 100 == 0) else 'ganjil')"
   ]
  },
  {
   "cell_type": "code",
   "execution_count": 72,
   "id": "7d6d29d5",
   "metadata": {},
   "outputs": [
    {
     "name": "stdout",
     "output_type": "stream",
     "text": [
      "Masukkan angka: 9\n",
      "bilangan tersebut adalah bilangan ganjil\n"
     ]
    }
   ],
   "source": [
    "x = int(input('Masukkan angka: '))\n",
    "print('bilangan tersebut adalah bilangan', 'genap' if (x * 2 / 100 == 0) else 'ganjil')"
   ]
  },
  {
   "cell_type": "code",
   "execution_count": 73,
   "id": "98e30ff0",
   "metadata": {},
   "outputs": [
    {
     "name": "stdout",
     "output_type": "stream",
     "text": [
      "Masukkan angka: 0\n",
      "bilangan tersebut adalah bilangan genap\n"
     ]
    }
   ],
   "source": [
    "x = int(input('Masukkan angka: '))\n",
    "print('bilangan tersebut adalah bilangan', 'genap' if (x * 2 / 100 == 0) else 'ganjil')"
   ]
  },
  {
   "cell_type": "code",
   "execution_count": 74,
   "id": "f7b13a6a",
   "metadata": {},
   "outputs": [
    {
     "name": "stdout",
     "output_type": "stream",
     "text": [
      "Masukkan angka: 4\n",
      "bilangan tersebut adalah bilangan ganjil\n"
     ]
    }
   ],
   "source": [
    "x = int(input('Masukkan angka: '))\n",
    "print('bilangan tersebut adalah bilangan', 'genap' if (x * 2 / 100 == 0) else 'ganjil')"
   ]
  },
  {
   "cell_type": "code",
   "execution_count": 75,
   "id": "a4d052cc",
   "metadata": {},
   "outputs": [
    {
     "name": "stdout",
     "output_type": "stream",
     "text": [
      "Masukkan angka: 1\n",
      "bilangan tersebut adalah bilangan ganjil\n"
     ]
    }
   ],
   "source": [
    "x = int(input('Masukkan angka: '))\n",
    "print('bilangan tersebut adalah bilangan', 'genap' \n",
    "      if (x * 2 / 100 == 0) else 'ganjil')"
   ]
  },
  {
   "cell_type": "code",
   "execution_count": 76,
   "id": "904d17df",
   "metadata": {},
   "outputs": [
    {
     "ename": "SyntaxError",
     "evalue": "invalid syntax (3074422169.py, line 3)",
     "output_type": "error",
     "traceback": [
      "\u001b[1;36m  Input \u001b[1;32mIn [76]\u001b[1;36m\u001b[0m\n\u001b[1;33m    if(x < 0):\u001b[0m\n\u001b[1;37m             ^\u001b[0m\n\u001b[1;31mSyntaxError\u001b[0m\u001b[1;31m:\u001b[0m invalid syntax\n"
     ]
    }
   ],
   "source": [
    "x = int(input('Masukkan angka: '))\n",
    "print('bilangan tersebut adalah bilangan', 'genap' \n",
    "      if(x < 0):\n",
    "      print('angka {} tergolong bukan bilangan genap dan ganjil!')\n",
    "      if (x * 2 / 100 == 0) else 'ganjil')"
   ]
  },
  {
   "cell_type": "code",
   "execution_count": 77,
   "id": "ce653f25",
   "metadata": {},
   "outputs": [
    {
     "ename": "SyntaxError",
     "evalue": "invalid syntax (2080935086.py, line 3)",
     "output_type": "error",
     "traceback": [
      "\u001b[1;36m  Input \u001b[1;32mIn [77]\u001b[1;36m\u001b[0m\n\u001b[1;33m    if(x < 0):\u001b[0m\n\u001b[1;37m             ^\u001b[0m\n\u001b[1;31mSyntaxError\u001b[0m\u001b[1;31m:\u001b[0m invalid syntax\n"
     ]
    }
   ],
   "source": [
    "x = int(input('Masukkan angka: '))\n",
    "print('bilangan tersebut adalah bilangan', 'genap' \n",
    "      if(x < 0):\n",
    "      print('angka {} tergolong bukan bilangan genap dan ganjil!')\n",
    "      elif (x * 2 / 100 == 0) else 'ganjil')"
   ]
  },
  {
   "cell_type": "code",
   "execution_count": 78,
   "id": "62763747",
   "metadata": {},
   "outputs": [
    {
     "ename": "SyntaxError",
     "evalue": "invalid syntax (2444685392.py, line 3)",
     "output_type": "error",
     "traceback": [
      "\u001b[1;36m  Input \u001b[1;32mIn [78]\u001b[1;36m\u001b[0m\n\u001b[1;33m    if(x < 0):\u001b[0m\n\u001b[1;37m             ^\u001b[0m\n\u001b[1;31mSyntaxError\u001b[0m\u001b[1;31m:\u001b[0m invalid syntax\n"
     ]
    }
   ],
   "source": [
    "x = int(input('Masukkan angka: '))\n",
    "print('bilangan tersebut adalah bilangan', 'genap' \n",
    "      if(x < 0):\n",
    "      print('angka {} tergolong bukan bilangan genap dan ganjil!')\n",
    "      elif (x * 2 / 100 == 0)\n",
    "      else 'ganjil')"
   ]
  },
  {
   "cell_type": "code",
   "execution_count": 79,
   "id": "712a9a39",
   "metadata": {},
   "outputs": [],
   "source": [
    " #Input Angka angka = int(input(\"Input Angka : \")) #Pengecekan Angka while (angka > 0): if(angka % 2 == 0): print(\"Angka\", angka, \"merupakan Bilangan Genap.\") if(angka % 2 > 0): print(\"Angka\", angka, \"merupakan Bilangan Ganjil.\") break if (angka == 0): print(\"Angka\", angka, \"bukan merupakan Bilangan Ganjil atau Genap.\") if (angka < 0): print(\"Harap masukkan angka positif.\")"
   ]
  },
  {
   "cell_type": "code",
   "execution_count": 80,
   "id": "34e261c3",
   "metadata": {},
   "outputs": [
    {
     "ename": "SyntaxError",
     "evalue": "invalid non-printable character U+00A0 (760479204.py, line 5)",
     "output_type": "error",
     "traceback": [
      "\u001b[1;36m  Input \u001b[1;32mIn [80]\u001b[1;36m\u001b[0m\n\u001b[1;33m    if(angka % 2 == 0):\u001b[0m\n\u001b[1;37m    ^\u001b[0m\n\u001b[1;31mSyntaxError\u001b[0m\u001b[1;31m:\u001b[0m invalid non-printable character U+00A0\n"
     ]
    }
   ],
   "source": [
    "#Input Angka\n",
    "angka = int(input(\"Input Angka : \"))\n",
    "#Pengecekan Angka\n",
    "while (angka > 0):\n",
    "    if(angka % 2 == 0):\n",
    "        print(\"Angka\", angka, \"merupakan Bilangan Genap.\")\n",
    "    if(angka % 2 > 0):\n",
    "        print(\"Angka\", angka, \"merupakan Bilangan Ganjil.\")\n",
    "    break\n",
    "    \n",
    "if (angka == 0):\n",
    "        print(\"Angka\", angka, \"bukan merupakan Bilangan Ganjil atau Genap.\")\n",
    "if (angka < 0):\n",
    "        print(\"Harap masukkan angka positif.\")"
   ]
  },
  {
   "cell_type": "code",
   "execution_count": 81,
   "id": "095af914",
   "metadata": {},
   "outputs": [
    {
     "ename": "SyntaxError",
     "evalue": "invalid non-printable character U+00A0 (33827359.py, line 4)",
     "output_type": "error",
     "traceback": [
      "\u001b[1;36m  Input \u001b[1;32mIn [81]\u001b[1;36m\u001b[0m\n\u001b[1;33m    print(\"Bilangan %i adalah Genap\" % bilangan)\u001b[0m\n\u001b[1;37m    ^\u001b[0m\n\u001b[1;31mSyntaxError\u001b[0m\u001b[1;31m:\u001b[0m invalid non-printable character U+00A0\n"
     ]
    }
   ],
   "source": [
    "bilangan=int(input(\"Masukkan angka:\"))\n",
    "\n",
    "if bilangan % 2 == 0 and bilangan > 0 :\n",
    "    print(\"Bilangan %i adalah Genap\" % bilangan)\n",
    "elif bilangan % 2 == 1 and bilangan >= 0 :\n",
    "    print(\"Bilangan %i adalah Ganjil\" % bilangan)\n",
    "elif bilangan == 0 :\n",
    "    print(\"%i bukanlah bilangan Ganjil atau Genap\" % bilangan)\n",
    "elif bilangan < 0 :\n",
    "    print(\"Inputan benar adalah bilangan bulat positif\")"
   ]
  },
  {
   "cell_type": "code",
   "execution_count": 82,
   "id": "160e026c",
   "metadata": {},
   "outputs": [
    {
     "ename": "SyntaxError",
     "evalue": "invalid non-printable character U+00A0 (495380830.py, line 4)",
     "output_type": "error",
     "traceback": [
      "\u001b[1;36m  Input \u001b[1;32mIn [82]\u001b[1;36m\u001b[0m\n\u001b[1;33m    print(\"Bilangan {} adalah Genap\" % bilangan)\u001b[0m\n\u001b[1;37m    ^\u001b[0m\n\u001b[1;31mSyntaxError\u001b[0m\u001b[1;31m:\u001b[0m invalid non-printable character U+00A0\n"
     ]
    }
   ],
   "source": [
    "bilangan=int(input(\"Masukkan angka:\"))\n",
    "\n",
    "if bilangan % 2 == 0 and bilangan > 0 :\n",
    "    print(\"Bilangan {} adalah Genap\" % bilangan)\n",
    "elif bilangan % 2 == 1 and bilangan >= 0 :\n",
    "    print(\"Bilangan {} adalah Ganjil\" % bilangan)\n",
    "elif bilangan == 0 :\n",
    "    print(\"{} bukanlah bilangan Ganjil atau Genap\" % bilangan)\n",
    "elif bilangan < 0 :\n",
    "    print(\"Inputan benar adalah bilangan bulat positif\")"
   ]
  },
  {
   "cell_type": "code",
   "execution_count": null,
   "id": "af54e2b1",
   "metadata": {},
   "outputs": [],
   "source": []
  }
 ],
 "metadata": {
  "kernelspec": {
   "display_name": "Python 3 (ipykernel)",
   "language": "python",
   "name": "python3"
  },
  "language_info": {
   "codemirror_mode": {
    "name": "ipython",
    "version": 3
   },
   "file_extension": ".py",
   "mimetype": "text/x-python",
   "name": "python",
   "nbconvert_exporter": "python",
   "pygments_lexer": "ipython3",
   "version": "3.9.12"
  }
 },
 "nbformat": 4,
 "nbformat_minor": 5
}
