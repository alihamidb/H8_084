{
 "cells": [
  {
   "cell_type": "code",
   "execution_count": 1,
   "id": "dd9f9206",
   "metadata": {},
   "outputs": [],
   "source": [
    "import math\n",
    "import statistics\n",
    "import numpy as np\n",
    "import scipy.stats\n",
    "import pandas as pd"
   ]
  },
  {
   "cell_type": "code",
   "execution_count": 3,
   "id": "4e1dfa10",
   "metadata": {},
   "outputs": [
    {
     "name": "stdout",
     "output_type": "stream",
     "text": [
      "[8.0, 1, 2.5, 4, 28.0]\n",
      "[8.0, 1, 2.5, nan, 4, 28.0]\n"
     ]
    }
   ],
   "source": [
    "x = [8.0, 1, 2.5, 4, 28.0]\n",
    "x_with_nan = [8.0, 1, 2.5, math.nan, 4, 28.0]\n",
    "print(x)\n",
    "print(x_with_nan)"
   ]
  },
  {
   "cell_type": "code",
   "execution_count": 4,
   "id": "6ac9b8aa",
   "metadata": {},
   "outputs": [
    {
     "name": "stdout",
     "output_type": "stream",
     "text": [
      "[ 8.   1.   2.5  4.  28. ]\n",
      "[ 8.   1.   2.5  nan  4.  28. ]\n",
      "0     8.0\n",
      "1     1.0\n",
      "2     2.5\n",
      "3     NaN\n",
      "4     4.0\n",
      "5    28.0\n",
      "dtype: float64\n"
     ]
    }
   ],
   "source": [
    "y, y_with_nan = np.array(x), np.array(x_with_nan)\n",
    "z, z_with_nan = pd.Series(x), pd.Series(x_with_nan)\n",
    "print(y)\n",
    "print(y_with_nan)\n",
    "print(z_with_nan)"
   ]
  },
  {
   "cell_type": "code",
   "execution_count": 5,
   "id": "c596951d",
   "metadata": {},
   "outputs": [
    {
     "data": {
      "text/plain": [
       "8.7"
      ]
     },
     "execution_count": 5,
     "metadata": {},
     "output_type": "execute_result"
    }
   ],
   "source": [
    "mean_ = sum(x) / len(x)\n",
    "mean_"
   ]
  },
  {
   "cell_type": "code",
   "execution_count": 6,
   "id": "e9de5e1f",
   "metadata": {},
   "outputs": [
    {
     "name": "stdout",
     "output_type": "stream",
     "text": [
      "8.7\n"
     ]
    }
   ],
   "source": [
    "mean_ = statistics.mean(x)\n",
    "print(mean_)"
   ]
  },
  {
   "cell_type": "code",
   "execution_count": 7,
   "id": "7ae4bced",
   "metadata": {},
   "outputs": [
    {
     "name": "stdout",
     "output_type": "stream",
     "text": [
      "nan\n"
     ]
    }
   ],
   "source": [
    "mean_ = statistics.mean(x_with_nan)\n",
    "print(mean_)"
   ]
  },
  {
   "cell_type": "code",
   "execution_count": 8,
   "id": "2226c885",
   "metadata": {},
   "outputs": [
    {
     "data": {
      "text/plain": [
       "8.7"
      ]
     },
     "execution_count": 8,
     "metadata": {},
     "output_type": "execute_result"
    }
   ],
   "source": [
    "mean_ = np.mean(y)\n",
    "mean_"
   ]
  },
  {
   "cell_type": "code",
   "execution_count": 9,
   "id": "957cf8e7",
   "metadata": {},
   "outputs": [
    {
     "data": {
      "text/plain": [
       "8.7"
      ]
     },
     "execution_count": 9,
     "metadata": {},
     "output_type": "execute_result"
    }
   ],
   "source": [
    "mean_ = y.mean()\n",
    "mean_"
   ]
  },
  {
   "cell_type": "code",
   "execution_count": 10,
   "id": "9bd43f38",
   "metadata": {},
   "outputs": [
    {
     "name": "stdout",
     "output_type": "stream",
     "text": [
      "6.95\n",
      "6.95\n"
     ]
    }
   ],
   "source": [
    "x = [8.0, 1, 2.5, 4, 28.0]\n",
    "w = [0.1, 0.2, 0.3, 0.25, 0.15]\n",
    "\n",
    "wmean = sum(w[i] * x[i] for i in range(len(x))) / sum(w)\n",
    "print(wmean)\n",
    "\n",
    "wmean = sum(x_ * w_ for (x_, w_) in zip(x, w)) / sum(w)\n",
    "print(wmean)"
   ]
  },
  {
   "cell_type": "code",
   "execution_count": 11,
   "id": "a8f86aff",
   "metadata": {},
   "outputs": [
    {
     "name": "stdout",
     "output_type": "stream",
     "text": [
      "6.95\n",
      "6.95\n"
     ]
    }
   ],
   "source": [
    "y, z, w = np.array(x), pd.Series(x), np.array(w)\n",
    "\n",
    "wmean = np.average(y, weights=w)\n",
    "print(wmean)\n",
    "\n",
    "wmean = np.average(z, weights=w)\n",
    "print(wmean)"
   ]
  },
  {
   "cell_type": "code",
   "execution_count": 12,
   "id": "0549209b",
   "metadata": {},
   "outputs": [
    {
     "data": {
      "text/plain": [
       "6.95"
      ]
     },
     "execution_count": 12,
     "metadata": {},
     "output_type": "execute_result"
    }
   ],
   "source": [
    "(w * y).sum() / w.sum()"
   ]
  },
  {
   "cell_type": "code",
   "execution_count": 13,
   "id": "bca32484",
   "metadata": {},
   "outputs": [
    {
     "data": {
      "text/plain": [
       "4"
      ]
     },
     "execution_count": 13,
     "metadata": {},
     "output_type": "execute_result"
    }
   ],
   "source": [
    "n = len(x)\n",
    "if n % 2:\n",
    "    median_ = sorted(x)[round(0.5*(n-1))]\n",
    "else:\n",
    "    x_ord, index = sorted(x), round(0.5 * n)\n",
    "    median_ = 0.5 * (x_ord[index-1] + x_ord[index])\n",
    "\n",
    "median_"
   ]
  },
  {
   "cell_type": "code",
   "execution_count": 14,
   "id": "085669c1",
   "metadata": {},
   "outputs": [
    {
     "data": {
      "text/plain": [
       "[8.0, 1, 2.5, 4, 28.0]"
      ]
     },
     "execution_count": 14,
     "metadata": {},
     "output_type": "execute_result"
    }
   ],
   "source": [
    "x"
   ]
  },
  {
   "cell_type": "code",
   "execution_count": 15,
   "id": "1ebbf36d",
   "metadata": {},
   "outputs": [
    {
     "data": {
      "text/plain": [
       "2.5"
      ]
     },
     "execution_count": 15,
     "metadata": {},
     "output_type": "execute_result"
    }
   ],
   "source": [
    "statistics.median_low(x[:-1])"
   ]
  },
  {
   "cell_type": "code",
   "execution_count": 16,
   "id": "0a261b23",
   "metadata": {},
   "outputs": [
    {
     "data": {
      "text/plain": [
       "4"
      ]
     },
     "execution_count": 16,
     "metadata": {},
     "output_type": "execute_result"
    }
   ],
   "source": [
    "statistics.median_high(x[:-1])"
   ]
  },
  {
   "cell_type": "code",
   "execution_count": 17,
   "id": "0c3d53fd",
   "metadata": {},
   "outputs": [
    {
     "name": "stdout",
     "output_type": "stream",
     "text": [
      "6.0\n",
      "4\n",
      "8.0\n"
     ]
    }
   ],
   "source": [
    "print(statistics.median(x_with_nan))\n",
    "print(statistics.median_low(x_with_nan))\n",
    "print(statistics.median_high(x_with_nan))"
   ]
  },
  {
   "cell_type": "code",
   "execution_count": 18,
   "id": "b22ef894",
   "metadata": {},
   "outputs": [
    {
     "name": "stdout",
     "output_type": "stream",
     "text": [
      "4.0\n"
     ]
    }
   ],
   "source": [
    "median_ = np.median(y)\n",
    "print(median_)"
   ]
  },
  {
   "cell_type": "code",
   "execution_count": 19,
   "id": "b55c9a23",
   "metadata": {},
   "outputs": [
    {
     "name": "stdout",
     "output_type": "stream",
     "text": [
      "3.25\n"
     ]
    }
   ],
   "source": [
    "median_ = np.median(y[:-1])\n",
    "print(median_)"
   ]
  },
  {
   "cell_type": "code",
   "execution_count": 23,
   "id": "ea0b4e7f",
   "metadata": {},
   "outputs": [
    {
     "data": {
      "text/plain": [
       "2"
      ]
     },
     "execution_count": 23,
     "metadata": {},
     "output_type": "execute_result"
    }
   ],
   "source": [
    "u = [2, 3, 2, 8, 12]\n",
    "\n",
    "v = [12, 15, 12, 15, 21, 15, 12]\n",
    "\n",
    "mode_ = max((u.count(item), item) for item in set(u))[1]\n",
    "mode_"
   ]
  },
  {
   "cell_type": "code",
   "execution_count": 24,
   "id": "bfa1b1a8",
   "metadata": {},
   "outputs": [
    {
     "data": {
      "text/plain": [
       "2"
      ]
     },
     "execution_count": 24,
     "metadata": {},
     "output_type": "execute_result"
    }
   ],
   "source": [
    "mode_ = statistics.mode(u)\n",
    "mode_"
   ]
  },
  {
   "cell_type": "code",
   "execution_count": 25,
   "id": "20af2a52",
   "metadata": {},
   "outputs": [
    {
     "data": {
      "text/plain": [
       "ModeResult(mode=array([2]), count=array([2]))"
      ]
     },
     "execution_count": 25,
     "metadata": {},
     "output_type": "execute_result"
    }
   ],
   "source": [
    "u, v = np.array(u), np.array(v)\n",
    "\n",
    "mode_ = scipy.stats.mode(u)\n",
    "mode_"
   ]
  },
  {
   "cell_type": "code",
   "execution_count": 26,
   "id": "72b50a1a",
   "metadata": {},
   "outputs": [
    {
     "data": {
      "text/plain": [
       "ModeResult(mode=array([12]), count=array([3]))"
      ]
     },
     "execution_count": 26,
     "metadata": {},
     "output_type": "execute_result"
    }
   ],
   "source": [
    "mode_ = scipy.stats.mode(v)\n",
    "mode_"
   ]
  },
  {
   "cell_type": "code",
   "execution_count": 27,
   "id": "36a93435",
   "metadata": {},
   "outputs": [
    {
     "name": "stdout",
     "output_type": "stream",
     "text": [
      "[12]\n",
      "[3]\n"
     ]
    }
   ],
   "source": [
    "print(mode_.mode)\n",
    "print(mode_.count)"
   ]
  },
  {
   "cell_type": "code",
   "execution_count": 28,
   "id": "3b6b5d06",
   "metadata": {},
   "outputs": [
    {
     "name": "stdout",
     "output_type": "stream",
     "text": [
      "0    2\n",
      "dtype: int32\n",
      "0    12\n",
      "1    15\n",
      "dtype: int32\n",
      "0    2.0\n",
      "dtype: float64\n"
     ]
    }
   ],
   "source": [
    "u, v, w = pd.Series(u), pd.Series(v), pd.Series([2, 2, math.nan])\n",
    "\n",
    "print(u.mode())\n",
    "\n",
    "print(v.mode())\n",
    "\n",
    "print(w.mode())"
   ]
  },
  {
   "cell_type": "code",
   "execution_count": 31,
   "id": "89c34c20",
   "metadata": {},
   "outputs": [
    {
     "data": {
      "text/plain": [
       "15"
      ]
     },
     "execution_count": 31,
     "metadata": {},
     "output_type": "execute_result"
    }
   ],
   "source": [
    "u = [3, 3, 3, 8, 13]\n",
    "\n",
    "v = [12, 15, 12, 15, 21, 15, 12]\n",
    "\n",
    "mode_ = max((v.count(item), item) for item in set(v))[1]\n",
    "mode_"
   ]
  },
  {
   "cell_type": "code",
   "execution_count": 32,
   "id": "64e44d77",
   "metadata": {},
   "outputs": [
    {
     "data": {
      "text/plain": [
       "123.19999999999999"
      ]
     },
     "execution_count": 32,
     "metadata": {},
     "output_type": "execute_result"
    }
   ],
   "source": [
    "n = len(x)\n",
    "\n",
    "mean_ = sum(x) / n\n",
    "\n",
    "var_ = sum((item - mean_)**2 for item in x) / (n - 1)\n",
    "var_"
   ]
  },
  {
   "cell_type": "code",
   "execution_count": 33,
   "id": "da001702",
   "metadata": {},
   "outputs": [
    {
     "data": {
      "text/plain": [
       "123.2"
      ]
     },
     "execution_count": 33,
     "metadata": {},
     "output_type": "execute_result"
    }
   ],
   "source": [
    "var_ = statistics.variance(x)\n",
    "var_"
   ]
  },
  {
   "cell_type": "code",
   "execution_count": 34,
   "id": "eb61201c",
   "metadata": {},
   "outputs": [
    {
     "data": {
      "text/plain": [
       "123.19999999999999"
      ]
     },
     "execution_count": 34,
     "metadata": {},
     "output_type": "execute_result"
    }
   ],
   "source": [
    "var_ = np.var(y, ddof=1)\n",
    "var_"
   ]
  },
  {
   "cell_type": "code",
   "execution_count": 35,
   "id": "f30946c6",
   "metadata": {},
   "outputs": [
    {
     "data": {
      "text/plain": [
       "123.19999999999999"
      ]
     },
     "execution_count": 35,
     "metadata": {},
     "output_type": "execute_result"
    }
   ],
   "source": [
    "z.var(ddof=1)"
   ]
  },
  {
   "cell_type": "code",
   "execution_count": 36,
   "id": "895d542b",
   "metadata": {},
   "outputs": [
    {
     "data": {
      "text/plain": [
       "11.099549540409285"
      ]
     },
     "execution_count": 36,
     "metadata": {},
     "output_type": "execute_result"
    }
   ],
   "source": [
    "std_ = var_ ** 0.5\n",
    "std_"
   ]
  },
  {
   "cell_type": "code",
   "execution_count": 37,
   "id": "68de4d8a",
   "metadata": {},
   "outputs": [
    {
     "data": {
      "text/plain": [
       "11.099549540409287"
      ]
     },
     "execution_count": 37,
     "metadata": {},
     "output_type": "execute_result"
    }
   ],
   "source": [
    "std_ = statistics.stdev(x)\n",
    "std_"
   ]
  },
  {
   "cell_type": "code",
   "execution_count": 38,
   "id": "7b469ff9",
   "metadata": {},
   "outputs": [
    {
     "data": {
      "text/plain": [
       "11.099549540409285"
      ]
     },
     "execution_count": 38,
     "metadata": {},
     "output_type": "execute_result"
    }
   ],
   "source": [
    "np.std(y, ddof=1)"
   ]
  },
  {
   "cell_type": "code",
   "execution_count": 39,
   "id": "71d9ec6d",
   "metadata": {},
   "outputs": [
    {
     "data": {
      "text/plain": [
       "11.099549540409285"
      ]
     },
     "execution_count": 39,
     "metadata": {},
     "output_type": "execute_result"
    }
   ],
   "source": [
    "y.std(ddof=1)"
   ]
  },
  {
   "cell_type": "code",
   "execution_count": 40,
   "id": "c73ad0a8",
   "metadata": {},
   "outputs": [
    {
     "data": {
      "text/plain": [
       "11.099549540409285"
      ]
     },
     "execution_count": 40,
     "metadata": {},
     "output_type": "execute_result"
    }
   ],
   "source": [
    "z.std(ddof=1)"
   ]
  },
  {
   "cell_type": "code",
   "execution_count": 41,
   "id": "c76f9e8e",
   "metadata": {},
   "outputs": [],
   "source": [
    "x = [8.0, 1, 2.5, 4, 28.0]\n",
    "\n",
    "n = len(x)\n",
    "\n",
    "mean_ = sum(x) / n\n",
    "var_ = sum((item - mean_)**2 for item in x) / (n-1)\n",
    "std_ = var_ ** 0.5\n",
    "\n",
    "skew_ = (sum((item - mean_)**3 for item in x) * n / ((n - 1) * (n - 2) * std_**3))"
   ]
  },
  {
   "cell_type": "code",
   "execution_count": 42,
   "id": "7977b1d5",
   "metadata": {},
   "outputs": [
    {
     "data": {
      "text/plain": [
       "1.9470432273905929"
      ]
     },
     "execution_count": 42,
     "metadata": {},
     "output_type": "execute_result"
    }
   ],
   "source": [
    "skew_"
   ]
  },
  {
   "cell_type": "code",
   "execution_count": 43,
   "id": "780144e2",
   "metadata": {},
   "outputs": [
    {
     "data": {
      "text/plain": [
       "1.9470432273905927"
      ]
     },
     "execution_count": 43,
     "metadata": {},
     "output_type": "execute_result"
    }
   ],
   "source": [
    "y, y_with_nan = np.array(x), np.array(x_with_nan)\n",
    "\n",
    "scipy.stats.skew(y, bias=False)"
   ]
  },
  {
   "cell_type": "code",
   "execution_count": 44,
   "id": "44f0e7e3",
   "metadata": {},
   "outputs": [
    {
     "data": {
      "text/plain": [
       "nan"
      ]
     },
     "execution_count": 44,
     "metadata": {},
     "output_type": "execute_result"
    }
   ],
   "source": [
    "scipy.stats.skew(y_with_nan, bias=False)"
   ]
  },
  {
   "cell_type": "code",
   "execution_count": 45,
   "id": "e9fd7a70",
   "metadata": {},
   "outputs": [
    {
     "data": {
      "text/plain": [
       "1.9470432273905924"
      ]
     },
     "execution_count": 45,
     "metadata": {},
     "output_type": "execute_result"
    }
   ],
   "source": [
    "z, z_with_nan = pd.Series(x), pd.Series(x_with_nan)\n",
    "\n",
    "z.skew()"
   ]
  },
  {
   "cell_type": "code",
   "execution_count": 46,
   "id": "195a4064",
   "metadata": {},
   "outputs": [
    {
     "data": {
      "text/plain": [
       "1.9470432273905924"
      ]
     },
     "execution_count": 46,
     "metadata": {},
     "output_type": "execute_result"
    }
   ],
   "source": [
    "z_with_nan.skew()"
   ]
  },
  {
   "cell_type": "code",
   "execution_count": 47,
   "id": "cece510c",
   "metadata": {},
   "outputs": [
    {
     "data": {
      "text/plain": [
       "[0.1, 8.0, 21.0]"
      ]
     },
     "execution_count": 47,
     "metadata": {},
     "output_type": "execute_result"
    }
   ],
   "source": [
    ">>> x = [-5.0, -1.1, 0.1, 2.0, 8.0, 12.8, 21.0, 25.8, 41.0]\n",
    ">>> statistics.quantiles(x, n=2)\n",
    "[8.0]\n",
    ">>> statistics.quantiles(x, n=4, method='inclusive')\n",
    "[0.1, 8.0, 21.0]"
   ]
  },
  {
   "cell_type": "code",
   "execution_count": 48,
   "id": "0faea8e4",
   "metadata": {},
   "outputs": [
    {
     "data": {
      "text/plain": [
       "34.919999999999995"
      ]
     },
     "execution_count": 48,
     "metadata": {},
     "output_type": "execute_result"
    }
   ],
   "source": [
    ">>> y = np.array(x)\n",
    ">>> np.percentile(y, 5)\n",
    "-3.44\n",
    ">>> np.percentile(y, 95)\n",
    "34.919999999999995"
   ]
  },
  {
   "cell_type": "code",
   "execution_count": 51,
   "id": "9a093b88",
   "metadata": {},
   "outputs": [
    {
     "ename": "NameError",
     "evalue": "name 'array' is not defined",
     "output_type": "error",
     "traceback": [
      "\u001b[1;31m---------------------------------------------------------------------------\u001b[0m",
      "\u001b[1;31mNameError\u001b[0m                                 Traceback (most recent call last)",
      "Input \u001b[1;32mIn [51]\u001b[0m, in \u001b[0;36m<cell line: 2>\u001b[1;34m()\u001b[0m\n\u001b[0;32m      1\u001b[0m np\u001b[38;5;241m.\u001b[39mpercentile(y, [\u001b[38;5;241m25\u001b[39m, \u001b[38;5;241m50\u001b[39m, \u001b[38;5;241m75\u001b[39m])\n\u001b[1;32m----> 2\u001b[0m \u001b[43marray\u001b[49m([ \u001b[38;5;241m0.1\u001b[39m,  \u001b[38;5;241m8.\u001b[39m , \u001b[38;5;241m21.\u001b[39m ])\n\u001b[0;32m      3\u001b[0m np\u001b[38;5;241m.\u001b[39mmedian(y)\n\u001b[0;32m      4\u001b[0m \u001b[38;5;241m8.0\u001b[39m\n",
      "\u001b[1;31mNameError\u001b[0m: name 'array' is not defined"
     ]
    }
   ],
   "source": [
    ">>> np.percentile(y, [25, 50, 75])\n",
    "array([ 0.1,  8. , 21. ])\n",
    ">>> np.median(y)\n",
    "8.0"
   ]
  },
  {
   "cell_type": "code",
   "execution_count": 52,
   "id": "a89fc3da",
   "metadata": {},
   "outputs": [
    {
     "ename": "NameError",
     "evalue": "name 'array' is not defined",
     "output_type": "error",
     "traceback": [
      "\u001b[1;31m---------------------------------------------------------------------------\u001b[0m",
      "\u001b[1;31mNameError\u001b[0m                                 Traceback (most recent call last)",
      "Input \u001b[1;32mIn [52]\u001b[0m, in \u001b[0;36m<cell line: 3>\u001b[1;34m()\u001b[0m\n\u001b[0;32m      1\u001b[0m y_with_nan \u001b[38;5;241m=\u001b[39m np\u001b[38;5;241m.\u001b[39minsert(y, \u001b[38;5;241m2\u001b[39m, np\u001b[38;5;241m.\u001b[39mnan)\n\u001b[0;32m      2\u001b[0m y_with_nan\n\u001b[1;32m----> 3\u001b[0m \u001b[43marray\u001b[49m([\u001b[38;5;241m-\u001b[39m\u001b[38;5;241m5.\u001b[39m , \u001b[38;5;241m-\u001b[39m\u001b[38;5;241m1.1\u001b[39m,  nan,  \u001b[38;5;241m0.1\u001b[39m,  \u001b[38;5;241m2.\u001b[39m ,  \u001b[38;5;241m8.\u001b[39m , \u001b[38;5;241m12.8\u001b[39m, \u001b[38;5;241m21.\u001b[39m , \u001b[38;5;241m25.8\u001b[39m, \u001b[38;5;241m41.\u001b[39m ])\n\u001b[0;32m      4\u001b[0m np\u001b[38;5;241m.\u001b[39mnanpercentile(y_with_nan, [\u001b[38;5;241m25\u001b[39m, \u001b[38;5;241m50\u001b[39m, \u001b[38;5;241m75\u001b[39m])\n\u001b[0;32m      5\u001b[0m array([ \u001b[38;5;241m0.1\u001b[39m,  \u001b[38;5;241m8.\u001b[39m , \u001b[38;5;241m21.\u001b[39m ])\n",
      "\u001b[1;31mNameError\u001b[0m: name 'array' is not defined"
     ]
    }
   ],
   "source": [
    ">>> y_with_nan = np.insert(y, 2, np.nan)\n",
    ">>> y_with_nan\n",
    "array([-5. , -1.1,  nan,  0.1,  2. ,  8. , 12.8, 21. , 25.8, 41. ])\n",
    ">>> np.nanpercentile(y_with_nan, [25, 50, 75])\n",
    "array([ 0.1,  8. , 21. ])"
   ]
  },
  {
   "cell_type": "code",
   "execution_count": 53,
   "id": "dbe6cf8f",
   "metadata": {},
   "outputs": [
    {
     "ename": "NameError",
     "evalue": "name 'nan' is not defined",
     "output_type": "error",
     "traceback": [
      "\u001b[1;31m---------------------------------------------------------------------------\u001b[0m",
      "\u001b[1;31mNameError\u001b[0m                                 Traceback (most recent call last)",
      "Input \u001b[1;32mIn [53]\u001b[0m, in \u001b[0;36m<cell line: 6>\u001b[1;34m()\u001b[0m\n\u001b[0;32m      4\u001b[0m \u001b[38;5;241m46.0\u001b[39m\n\u001b[0;32m      5\u001b[0m np\u001b[38;5;241m.\u001b[39mptp(y_with_nan)\n\u001b[1;32m----> 6\u001b[0m \u001b[43mnan\u001b[49m\n\u001b[0;32m      7\u001b[0m np\u001b[38;5;241m.\u001b[39mptp(z_with_nan)\n\u001b[0;32m      8\u001b[0m \u001b[38;5;241m46.0\u001b[39m\n",
      "\u001b[1;31mNameError\u001b[0m: name 'nan' is not defined"
     ]
    }
   ],
   "source": [
    ">>> np.ptp(y)\n",
    "46.0\n",
    ">>> np.ptp(z)\n",
    "46.0\n",
    ">>> np.ptp(y_with_nan)\n",
    "nan\n",
    ">>> np.ptp(z_with_nan)\n",
    "46.0"
   ]
  },
  {
   "cell_type": "code",
   "execution_count": 54,
   "id": "a7d0d5af",
   "metadata": {},
   "outputs": [
    {
     "ename": "NameError",
     "evalue": "name 'nan' is not defined",
     "output_type": "error",
     "traceback": [
      "\u001b[1;31m---------------------------------------------------------------------------\u001b[0m",
      "\u001b[1;31mNameError\u001b[0m                                 Traceback (most recent call last)",
      "Input \u001b[1;32mIn [54]\u001b[0m, in \u001b[0;36m<cell line: 6>\u001b[1;34m()\u001b[0m\n\u001b[0;32m      4\u001b[0m \u001b[38;5;241m46.0\u001b[39m\n\u001b[0;32m      5\u001b[0m np\u001b[38;5;241m.\u001b[39mptp(y_with_nan)\n\u001b[1;32m----> 6\u001b[0m \u001b[43mnan\u001b[49m\n\u001b[0;32m      7\u001b[0m np\u001b[38;5;241m.\u001b[39mptp(z_with_nan)\n\u001b[0;32m      8\u001b[0m \u001b[38;5;241m46.0\u001b[39m\n",
      "\u001b[1;31mNameError\u001b[0m: name 'nan' is not defined"
     ]
    }
   ],
   "source": [
    ">>> np.ptp(y)\n",
    "46.0\n",
    ">>> np.ptp(z)\n",
    "46.0\n",
    ">>> np.ptp(y_with_nan)\n",
    "nan\n",
    ">>> np.ptp(z_with_nan)\n",
    "46.0"
   ]
  },
  {
   "cell_type": "code",
   "execution_count": 55,
   "id": "3d227015",
   "metadata": {},
   "outputs": [
    {
     "data": {
      "text/plain": [
       "46.0"
      ]
     },
     "execution_count": 55,
     "metadata": {},
     "output_type": "execute_result"
    }
   ],
   "source": [
    ">>> np.amax(y) - np.amin(y)\n",
    "46.0\n",
    ">>> np.nanmax(y_with_nan) - np.nanmin(y_with_nan)\n",
    "46.0\n",
    ">>> y.max() - y.min()\n",
    "46.0\n",
    ">>> z.max() - z.min()\n",
    "46.0\n",
    ">>> z_with_nan.max() - z_with_nan.min()\n",
    "46.0"
   ]
  },
  {
   "cell_type": "code",
   "execution_count": 56,
   "id": "0c235b26",
   "metadata": {},
   "outputs": [
    {
     "ename": "NameError",
     "evalue": "name 'DescribeResult' is not defined",
     "output_type": "error",
     "traceback": [
      "\u001b[1;31m---------------------------------------------------------------------------\u001b[0m",
      "\u001b[1;31mNameError\u001b[0m                                 Traceback (most recent call last)",
      "Input \u001b[1;32mIn [56]\u001b[0m, in \u001b[0;36m<cell line: 3>\u001b[1;34m()\u001b[0m\n\u001b[0;32m      1\u001b[0m result \u001b[38;5;241m=\u001b[39m scipy\u001b[38;5;241m.\u001b[39mstats\u001b[38;5;241m.\u001b[39mdescribe(y, ddof\u001b[38;5;241m=\u001b[39m\u001b[38;5;241m1\u001b[39m, bias\u001b[38;5;241m=\u001b[39m\u001b[38;5;28;01mFalse\u001b[39;00m)\n\u001b[0;32m      2\u001b[0m result\n\u001b[1;32m----> 3\u001b[0m \u001b[43mDescribeResult\u001b[49m(nobs\u001b[38;5;241m=\u001b[39m\u001b[38;5;241m9\u001b[39m, minmax\u001b[38;5;241m=\u001b[39m(\u001b[38;5;241m-\u001b[39m\u001b[38;5;241m5.0\u001b[39m, \u001b[38;5;241m41.0\u001b[39m), mean\u001b[38;5;241m=\u001b[39m\u001b[38;5;241m11.622222222222222\u001b[39m, variance\u001b[38;5;241m=\u001b[39m\u001b[38;5;241m228.75194444444446\u001b[39m, skewness\u001b[38;5;241m=\u001b[39m\u001b[38;5;241m0.9249043136685094\u001b[39m, kurtosis\u001b[38;5;241m=\u001b[39m\u001b[38;5;241m0.14770623629658886\u001b[39m)\n",
      "\u001b[1;31mNameError\u001b[0m: name 'DescribeResult' is not defined"
     ]
    }
   ],
   "source": [
    ">>> result = scipy.stats.describe(y, ddof=1, bias=False)\n",
    ">>> result\n",
    "DescribeResult(nobs=9, minmax=(-5.0, 41.0), mean=11.622222222222222, variance=228.75194444444446, skewness=0.9249043136685094, kurtosis=0.14770623629658886)"
   ]
  },
  {
   "cell_type": "code",
   "execution_count": 57,
   "id": "a2404fc1",
   "metadata": {},
   "outputs": [
    {
     "data": {
      "text/plain": [
       "20.9"
      ]
     },
     "execution_count": 57,
     "metadata": {},
     "output_type": "execute_result"
    }
   ],
   "source": [
    ">>> quartiles = np.quantile(y, [0.25, 0.75])\n",
    ">>> quartiles[1] - quartiles[0]\n",
    "20.9\n",
    ">>> quartiles = z.quantile([0.25, 0.75])\n",
    ">>> quartiles[0.75] - quartiles[0.25]\n",
    "20.9"
   ]
  },
  {
   "cell_type": "code",
   "execution_count": 58,
   "id": "1f0379af",
   "metadata": {},
   "outputs": [
    {
     "ename": "NameError",
     "evalue": "name 'DescribeResult' is not defined",
     "output_type": "error",
     "traceback": [
      "\u001b[1;31m---------------------------------------------------------------------------\u001b[0m",
      "\u001b[1;31mNameError\u001b[0m                                 Traceback (most recent call last)",
      "Input \u001b[1;32mIn [58]\u001b[0m, in \u001b[0;36m<cell line: 3>\u001b[1;34m()\u001b[0m\n\u001b[0;32m      1\u001b[0m result \u001b[38;5;241m=\u001b[39m scipy\u001b[38;5;241m.\u001b[39mstats\u001b[38;5;241m.\u001b[39mdescribe(y, ddof\u001b[38;5;241m=\u001b[39m\u001b[38;5;241m1\u001b[39m, bias\u001b[38;5;241m=\u001b[39m\u001b[38;5;28;01mFalse\u001b[39;00m)\n\u001b[0;32m      2\u001b[0m result\n\u001b[1;32m----> 3\u001b[0m \u001b[43mDescribeResult\u001b[49m(nobs\u001b[38;5;241m=\u001b[39m\u001b[38;5;241m9\u001b[39m, minmax\u001b[38;5;241m=\u001b[39m(\u001b[38;5;241m-\u001b[39m\u001b[38;5;241m5.0\u001b[39m, \u001b[38;5;241m41.0\u001b[39m), mean\u001b[38;5;241m=\u001b[39m\u001b[38;5;241m11.622222222222222\u001b[39m, variance\u001b[38;5;241m=\u001b[39m\u001b[38;5;241m228.75194444444446\u001b[39m, skewness\u001b[38;5;241m=\u001b[39m\u001b[38;5;241m0.9249043136685094\u001b[39m, kurtosis\u001b[38;5;241m=\u001b[39m\u001b[38;5;241m0.14770623629658886\u001b[39m)\n",
      "\u001b[1;31mNameError\u001b[0m: name 'DescribeResult' is not defined"
     ]
    }
   ],
   "source": [
    ">>> result = scipy.stats.describe(y, ddof=1, bias=False)\n",
    ">>> result\n",
    "DescribeResult(nobs=9, minmax=(-5.0, 41.0), mean=11.622222222222222, variance=228.75194444444446, skewness=0.9249043136685094, kurtosis=0.14770623629658886)"
   ]
  },
  {
   "cell_type": "code",
   "execution_count": 59,
   "id": "8a5635e4",
   "metadata": {},
   "outputs": [
    {
     "ename": "NameError",
     "evalue": "name 'DescribeResult' is not defined",
     "output_type": "error",
     "traceback": [
      "\u001b[1;31m---------------------------------------------------------------------------\u001b[0m",
      "\u001b[1;31mNameError\u001b[0m                                 Traceback (most recent call last)",
      "Input \u001b[1;32mIn [59]\u001b[0m, in \u001b[0;36m<cell line: 3>\u001b[1;34m()\u001b[0m\n\u001b[0;32m      1\u001b[0m result \u001b[38;5;241m=\u001b[39m scipy\u001b[38;5;241m.\u001b[39mstats\u001b[38;5;241m.\u001b[39mdescribe(y, ddof\u001b[38;5;241m=\u001b[39m\u001b[38;5;241m1\u001b[39m, bias\u001b[38;5;241m=\u001b[39m\u001b[38;5;28;01mFalse\u001b[39;00m)\n\u001b[0;32m      2\u001b[0m result\n\u001b[1;32m----> 3\u001b[0m \u001b[43mDescribeResult\u001b[49m(nobs\u001b[38;5;241m=\u001b[39m\u001b[38;5;241m9\u001b[39m, minmax\u001b[38;5;241m=\u001b[39m(\u001b[38;5;241m-\u001b[39m\u001b[38;5;241m5.0\u001b[39m, \u001b[38;5;241m41.0\u001b[39m), mean\u001b[38;5;241m=\u001b[39m\u001b[38;5;241m11.622222222222222\u001b[39m, variance\u001b[38;5;241m=\u001b[39m\u001b[38;5;241m228.75194444444446\u001b[39m, skewness\u001b[38;5;241m=\u001b[39m\u001b[38;5;241m0.9249043136685094\u001b[39m, kurtosis\u001b[38;5;241m=\u001b[39m\u001b[38;5;241m0.14770623629658886\u001b[39m)\n",
      "\u001b[1;31mNameError\u001b[0m: name 'DescribeResult' is not defined"
     ]
    }
   ],
   "source": [
    ">>> result = scipy.stats.describe(y, ddof=1, bias=False)\n",
    ">>> result\n",
    "DescribeResult(nobs=9, minmax=(-5.0, 41.0), mean=11.622222222222222, variance=228.75194444444446, skewness=0.9249043136685094, kurtosis=0.14770623629658886)"
   ]
  },
  {
   "cell_type": "code",
   "execution_count": 60,
   "id": "c514f9fa",
   "metadata": {},
   "outputs": [
    {
     "data": {
      "text/plain": [
       "0.14770623629658886"
      ]
     },
     "execution_count": 60,
     "metadata": {},
     "output_type": "execute_result"
    }
   ],
   "source": [
    ">>> result.nobs\n",
    "9\n",
    ">>> result.minmax[0]  # Min\n",
    "-5.0\n",
    ">>> result.minmax[1]  # Max\n",
    "41.0\n",
    ">>> result.mean\n",
    "11.622222222222222\n",
    ">>> result.variance\n",
    "228.75194444444446\n",
    ">>> result.skewness\n",
    "0.9249043136685094\n",
    ">>> result.kurtosis\n",
    "0.14770623629658886"
   ]
  },
  {
   "cell_type": "code",
   "execution_count": 61,
   "id": "85fdf2f5",
   "metadata": {},
   "outputs": [
    {
     "ename": "SyntaxError",
     "evalue": "invalid syntax (3376890877.py, line 3)",
     "output_type": "error",
     "traceback": [
      "\u001b[1;36m  Input \u001b[1;32mIn [61]\u001b[1;36m\u001b[0m\n\u001b[1;33m    count     9.000000\u001b[0m\n\u001b[1;37m              ^\u001b[0m\n\u001b[1;31mSyntaxError\u001b[0m\u001b[1;31m:\u001b[0m invalid syntax\n"
     ]
    }
   ],
   "source": [
    ">>> result = z.describe()\n",
    ">>> result\n",
    "count     9.000000\n",
    "mean     11.622222\n",
    "std      15.124548\n",
    "min      -5.000000\n",
    "25%       0.100000\n",
    "50%       8.000000\n",
    "75%      21.000000\n",
    "max      41.000000\n",
    "dtype: float64"
   ]
  },
  {
   "cell_type": "code",
   "execution_count": 62,
   "id": "1cf634a2",
   "metadata": {},
   "outputs": [],
   "source": [
    ">>> x = list(range(-10, 11))\n",
    ">>> y = [0, 2, 2, 2, 2, 3, 3, 6, 7, 4, 7, 6, 6, 9, 4, 5, 5, 10, 11, 12, 14]\n",
    ">>> x_, y_ = np.array(x), np.array(y)\n",
    ">>> x__, y__ = pd.Series(x_), pd.Series(y_)"
   ]
  },
  {
   "cell_type": "code",
   "execution_count": 63,
   "id": "3a973d35",
   "metadata": {},
   "outputs": [
    {
     "data": {
      "text/plain": [
       "19.95"
      ]
     },
     "execution_count": 63,
     "metadata": {},
     "output_type": "execute_result"
    }
   ],
   "source": [
    ">>> n = len(x)\n",
    ">>> mean_x, mean_y = sum(x) / n, sum(y) / n\n",
    ">>> cov_xy = (sum((x[k] - mean_x) * (y[k] - mean_y) for k in range(n))\n",
    "...           / (n - 1))\n",
    ">>> cov_xy\n",
    "19.95"
   ]
  },
  {
   "cell_type": "code",
   "execution_count": 64,
   "id": "3d7d0787",
   "metadata": {},
   "outputs": [
    {
     "ename": "NameError",
     "evalue": "name 'array' is not defined",
     "output_type": "error",
     "traceback": [
      "\u001b[1;31m---------------------------------------------------------------------------\u001b[0m",
      "\u001b[1;31mNameError\u001b[0m                                 Traceback (most recent call last)",
      "Input \u001b[1;32mIn [64]\u001b[0m, in \u001b[0;36m<cell line: 3>\u001b[1;34m()\u001b[0m\n\u001b[0;32m      1\u001b[0m cov_matrix \u001b[38;5;241m=\u001b[39m np\u001b[38;5;241m.\u001b[39mcov(x_, y_)\n\u001b[0;32m      2\u001b[0m cov_matrix\n\u001b[1;32m----> 3\u001b[0m \u001b[43marray\u001b[49m([[\u001b[38;5;241m38.5\u001b[39m       , \u001b[38;5;241m19.95\u001b[39m      ],\n\u001b[0;32m      4\u001b[0m        [\u001b[38;5;241m19.95\u001b[39m      , \u001b[38;5;241m13.91428571\u001b[39m]])\n",
      "\u001b[1;31mNameError\u001b[0m: name 'array' is not defined"
     ]
    }
   ],
   "source": [
    ">>> cov_matrix = np.cov(x_, y_)\n",
    ">>> cov_matrix\n",
    "array([[38.5       , 19.95      ],\n",
    "       [19.95      , 13.91428571]])"
   ]
  },
  {
   "cell_type": "code",
   "execution_count": 65,
   "id": "802ed1c8",
   "metadata": {},
   "outputs": [
    {
     "data": {
      "text/plain": [
       "13.914285714285711"
      ]
     },
     "execution_count": 65,
     "metadata": {},
     "output_type": "execute_result"
    }
   ],
   "source": [
    ">>> x_.var(ddof=1)\n",
    "38.5\n",
    ">>> y_.var(ddof=1)\n",
    "13.914285714285711"
   ]
  },
  {
   "cell_type": "code",
   "execution_count": 66,
   "id": "d0a0bc01",
   "metadata": {},
   "outputs": [
    {
     "data": {
      "text/plain": [
       "19.95"
      ]
     },
     "execution_count": 66,
     "metadata": {},
     "output_type": "execute_result"
    }
   ],
   "source": [
    ">>> cov_xy = cov_matrix[0, 1]\n",
    ">>> cov_xy\n",
    "19.95\n",
    ">>> cov_xy = cov_matrix[1, 0]\n",
    ">>> cov_xy\n",
    "19.95"
   ]
  },
  {
   "cell_type": "code",
   "execution_count": 67,
   "id": "697edbda",
   "metadata": {},
   "outputs": [
    {
     "data": {
      "text/plain": [
       "19.95"
      ]
     },
     "execution_count": 67,
     "metadata": {},
     "output_type": "execute_result"
    }
   ],
   "source": [
    ">>> cov_xy = x__.cov(y__)\n",
    ">>> cov_xy\n",
    "19.95\n",
    ">>> cov_xy = y__.cov(x__)\n",
    ">>> cov_xy\n",
    "19.95"
   ]
  },
  {
   "cell_type": "code",
   "execution_count": 68,
   "id": "94b23bdd",
   "metadata": {},
   "outputs": [
    {
     "data": {
      "text/plain": [
       "0.861950005631606"
      ]
     },
     "execution_count": 68,
     "metadata": {},
     "output_type": "execute_result"
    }
   ],
   "source": [
    ">>> var_x = sum((item - mean_x)**2 for item in x) / (n - 1)\n",
    ">>> var_y = sum((item - mean_y)**2 for item in y) / (n - 1)\n",
    ">>> std_x, std_y = var_x ** 0.5, var_y ** 0.5\n",
    ">>> r = cov_xy / (std_x * std_y)\n",
    ">>> r\n",
    "0.861950005631606"
   ]
  },
  {
   "cell_type": "code",
   "execution_count": 69,
   "id": "53a223d2",
   "metadata": {},
   "outputs": [
    {
     "data": {
      "text/plain": [
       "5.122760847201171e-07"
      ]
     },
     "execution_count": 69,
     "metadata": {},
     "output_type": "execute_result"
    }
   ],
   "source": [
    ">>> r, p = scipy.stats.pearsonr(x_, y_)\n",
    ">>> r\n",
    "0.861950005631606\n",
    ">>> p\n",
    "5.122760847201171e-07"
   ]
  },
  {
   "cell_type": "code",
   "execution_count": 70,
   "id": "c158e944",
   "metadata": {},
   "outputs": [
    {
     "ename": "NameError",
     "evalue": "name 'array' is not defined",
     "output_type": "error",
     "traceback": [
      "\u001b[1;31m---------------------------------------------------------------------------\u001b[0m",
      "\u001b[1;31mNameError\u001b[0m                                 Traceback (most recent call last)",
      "Input \u001b[1;32mIn [70]\u001b[0m, in \u001b[0;36m<cell line: 3>\u001b[1;34m()\u001b[0m\n\u001b[0;32m      1\u001b[0m corr_matrix \u001b[38;5;241m=\u001b[39m np\u001b[38;5;241m.\u001b[39mcorrcoef(x_, y_)\n\u001b[0;32m      2\u001b[0m corr_matrix\n\u001b[1;32m----> 3\u001b[0m \u001b[43marray\u001b[49m([[\u001b[38;5;241m1.\u001b[39m        , \u001b[38;5;241m0.86195001\u001b[39m],\n\u001b[0;32m      4\u001b[0m        [\u001b[38;5;241m0.86195001\u001b[39m, \u001b[38;5;241m1.\u001b[39m        ]])\n",
      "\u001b[1;31mNameError\u001b[0m: name 'array' is not defined"
     ]
    }
   ],
   "source": [
    ">>> corr_matrix = np.corrcoef(x_, y_)\n",
    ">>> corr_matrix\n",
    "array([[1.        , 0.86195001],\n",
    "       [0.86195001, 1.        ]])"
   ]
  },
  {
   "cell_type": "code",
   "execution_count": 71,
   "id": "7b271a73",
   "metadata": {},
   "outputs": [
    {
     "data": {
      "text/plain": [
       "0.861950005631606"
      ]
     },
     "execution_count": 71,
     "metadata": {},
     "output_type": "execute_result"
    }
   ],
   "source": [
    ">>> r = corr_matrix[0, 1]\n",
    ">>> r\n",
    "0.8619500056316061\n",
    ">>> r = corr_matrix[1, 0]\n",
    ">>> r\n",
    "0.861950005631606"
   ]
  },
  {
   "cell_type": "code",
   "execution_count": 72,
   "id": "13d8c028",
   "metadata": {},
   "outputs": [
    {
     "data": {
      "text/plain": [
       "0.861950005631606"
      ]
     },
     "execution_count": 72,
     "metadata": {},
     "output_type": "execute_result"
    }
   ],
   "source": [
    ">>> result = scipy.stats.linregress(x_, y_)\n",
    ">>> r = result.rvalue\n",
    ">>> r\n",
    "0.861950005631606"
   ]
  },
  {
   "cell_type": "code",
   "execution_count": 73,
   "id": "45486d65",
   "metadata": {},
   "outputs": [
    {
     "data": {
      "text/plain": [
       "0.861950005631606"
      ]
     },
     "execution_count": 73,
     "metadata": {},
     "output_type": "execute_result"
    }
   ],
   "source": [
    ">>> r = x__.corr(y__)\n",
    ">>> r\n",
    "0.8619500056316061\n",
    ">>> r = y__.corr(x__)\n",
    ">>> r\n",
    "0.861950005631606"
   ]
  },
  {
   "cell_type": "code",
   "execution_count": 74,
   "id": "9c8ce52c",
   "metadata": {},
   "outputs": [
    {
     "ename": "NameError",
     "evalue": "name 'array' is not defined",
     "output_type": "error",
     "traceback": [
      "\u001b[1;31m---------------------------------------------------------------------------\u001b[0m",
      "\u001b[1;31mNameError\u001b[0m                                 Traceback (most recent call last)",
      "Input \u001b[1;32mIn [74]\u001b[0m, in \u001b[0;36m<cell line: 7>\u001b[1;34m()\u001b[0m\n\u001b[0;32m      1\u001b[0m a \u001b[38;5;241m=\u001b[39m np\u001b[38;5;241m.\u001b[39marray([[\u001b[38;5;241m1\u001b[39m, \u001b[38;5;241m1\u001b[39m, \u001b[38;5;241m1\u001b[39m],\n\u001b[0;32m      2\u001b[0m               [\u001b[38;5;241m2\u001b[39m, \u001b[38;5;241m3\u001b[39m, \u001b[38;5;241m1\u001b[39m],\n\u001b[0;32m      3\u001b[0m               [\u001b[38;5;241m4\u001b[39m, \u001b[38;5;241m9\u001b[39m, \u001b[38;5;241m2\u001b[39m],\n\u001b[0;32m      4\u001b[0m               [\u001b[38;5;241m8\u001b[39m, \u001b[38;5;241m27\u001b[39m, \u001b[38;5;241m4\u001b[39m],\n\u001b[0;32m      5\u001b[0m               [\u001b[38;5;241m16\u001b[39m, \u001b[38;5;241m1\u001b[39m, \u001b[38;5;241m1\u001b[39m]])\n\u001b[0;32m      6\u001b[0m a\n\u001b[1;32m----> 7\u001b[0m \u001b[43marray\u001b[49m([[ \u001b[38;5;241m1\u001b[39m,  \u001b[38;5;241m1\u001b[39m,  \u001b[38;5;241m1\u001b[39m],\n\u001b[0;32m      8\u001b[0m        [ \u001b[38;5;241m2\u001b[39m,  \u001b[38;5;241m3\u001b[39m,  \u001b[38;5;241m1\u001b[39m],\n\u001b[0;32m      9\u001b[0m        [ \u001b[38;5;241m4\u001b[39m,  \u001b[38;5;241m9\u001b[39m,  \u001b[38;5;241m2\u001b[39m],\n\u001b[0;32m     10\u001b[0m        [ \u001b[38;5;241m8\u001b[39m, \u001b[38;5;241m27\u001b[39m,  \u001b[38;5;241m4\u001b[39m],\n\u001b[0;32m     11\u001b[0m        [\u001b[38;5;241m16\u001b[39m,  \u001b[38;5;241m1\u001b[39m,  \u001b[38;5;241m1\u001b[39m]])\n",
      "\u001b[1;31mNameError\u001b[0m: name 'array' is not defined"
     ]
    }
   ],
   "source": [
    ">>> a = np.array([[1, 1, 1],\n",
    "...               [2, 3, 1],\n",
    "...               [4, 9, 2],\n",
    "...               [8, 27, 4],\n",
    "...               [16, 1, 1]])\n",
    ">>> a\n",
    "array([[ 1,  1,  1],\n",
    "       [ 2,  3,  1],\n",
    "       [ 4,  9,  2],\n",
    "       [ 8, 27,  4],\n",
    "       [16,  1,  1]])"
   ]
  },
  {
   "cell_type": "code",
   "execution_count": 75,
   "id": "5b0e9393",
   "metadata": {},
   "outputs": [
    {
     "data": {
      "text/plain": [
       "53.40000000000001"
      ]
     },
     "execution_count": 75,
     "metadata": {},
     "output_type": "execute_result"
    }
   ],
   "source": [
    ">>> np.mean(a)\n",
    "5.4\n",
    ">>> a.mean()\n",
    "5.4\n",
    ">>> np.median(a)\n",
    "2.0\n",
    ">>> a.var(ddof=1)\n",
    "53.40000000000001"
   ]
  },
  {
   "cell_type": "code",
   "execution_count": 76,
   "id": "a5bc9d84",
   "metadata": {},
   "outputs": [
    {
     "ename": "NameError",
     "evalue": "name 'array' is not defined",
     "output_type": "error",
     "traceback": [
      "\u001b[1;31m---------------------------------------------------------------------------\u001b[0m",
      "\u001b[1;31mNameError\u001b[0m                                 Traceback (most recent call last)",
      "Input \u001b[1;32mIn [76]\u001b[0m, in \u001b[0;36m<cell line: 2>\u001b[1;34m()\u001b[0m\n\u001b[0;32m      1\u001b[0m np\u001b[38;5;241m.\u001b[39mmean(a, axis\u001b[38;5;241m=\u001b[39m\u001b[38;5;241m0\u001b[39m)\n\u001b[1;32m----> 2\u001b[0m \u001b[43marray\u001b[49m([\u001b[38;5;241m6.2\u001b[39m, \u001b[38;5;241m8.2\u001b[39m, \u001b[38;5;241m1.8\u001b[39m])\n\u001b[0;32m      3\u001b[0m a\u001b[38;5;241m.\u001b[39mmean(axis\u001b[38;5;241m=\u001b[39m\u001b[38;5;241m0\u001b[39m)\n\u001b[0;32m      4\u001b[0m array([\u001b[38;5;241m6.2\u001b[39m, \u001b[38;5;241m8.2\u001b[39m, \u001b[38;5;241m1.8\u001b[39m])\n",
      "\u001b[1;31mNameError\u001b[0m: name 'array' is not defined"
     ]
    }
   ],
   "source": [
    ">>> np.mean(a, axis=0)\n",
    "array([6.2, 8.2, 1.8])\n",
    ">>> a.mean(axis=0)\n",
    "array([6.2, 8.2, 1.8])"
   ]
  },
  {
   "cell_type": "code",
   "execution_count": 77,
   "id": "f0fb3eac",
   "metadata": {},
   "outputs": [
    {
     "ename": "NameError",
     "evalue": "name 'array' is not defined",
     "output_type": "error",
     "traceback": [
      "\u001b[1;31m---------------------------------------------------------------------------\u001b[0m",
      "\u001b[1;31mNameError\u001b[0m                                 Traceback (most recent call last)",
      "Input \u001b[1;32mIn [77]\u001b[0m, in \u001b[0;36m<cell line: 2>\u001b[1;34m()\u001b[0m\n\u001b[0;32m      1\u001b[0m np\u001b[38;5;241m.\u001b[39mmean(a, axis\u001b[38;5;241m=\u001b[39m\u001b[38;5;241m1\u001b[39m)\n\u001b[1;32m----> 2\u001b[0m \u001b[43marray\u001b[49m([ \u001b[38;5;241m1.\u001b[39m,  \u001b[38;5;241m2.\u001b[39m,  \u001b[38;5;241m5.\u001b[39m, \u001b[38;5;241m13.\u001b[39m,  \u001b[38;5;241m6.\u001b[39m])\n\u001b[0;32m      3\u001b[0m a\u001b[38;5;241m.\u001b[39mmean(axis\u001b[38;5;241m=\u001b[39m\u001b[38;5;241m1\u001b[39m)\n\u001b[0;32m      4\u001b[0m array([ \u001b[38;5;241m1.\u001b[39m,  \u001b[38;5;241m2.\u001b[39m,  \u001b[38;5;241m5.\u001b[39m, \u001b[38;5;241m13.\u001b[39m,  \u001b[38;5;241m6.\u001b[39m])\n",
      "\u001b[1;31mNameError\u001b[0m: name 'array' is not defined"
     ]
    }
   ],
   "source": [
    ">>> np.mean(a, axis=1)\n",
    "array([ 1.,  2.,  5., 13.,  6.])\n",
    ">>> a.mean(axis=1)\n",
    "array([ 1.,  2.,  5., 13.,  6.])"
   ]
  },
  {
   "cell_type": "code",
   "execution_count": 78,
   "id": "c5d406c5",
   "metadata": {},
   "outputs": [
    {
     "ename": "NameError",
     "evalue": "name 'array' is not defined",
     "output_type": "error",
     "traceback": [
      "\u001b[1;31m---------------------------------------------------------------------------\u001b[0m",
      "\u001b[1;31mNameError\u001b[0m                                 Traceback (most recent call last)",
      "Input \u001b[1;32mIn [78]\u001b[0m, in \u001b[0;36m<cell line: 2>\u001b[1;34m()\u001b[0m\n\u001b[0;32m      1\u001b[0m np\u001b[38;5;241m.\u001b[39mmedian(a, axis\u001b[38;5;241m=\u001b[39m\u001b[38;5;241m0\u001b[39m)\n\u001b[1;32m----> 2\u001b[0m \u001b[43marray\u001b[49m([\u001b[38;5;241m4.\u001b[39m, \u001b[38;5;241m3.\u001b[39m, \u001b[38;5;241m1.\u001b[39m])\n\u001b[0;32m      3\u001b[0m np\u001b[38;5;241m.\u001b[39mmedian(a, axis\u001b[38;5;241m=\u001b[39m\u001b[38;5;241m1\u001b[39m)\n\u001b[0;32m      4\u001b[0m array([\u001b[38;5;241m1.\u001b[39m, \u001b[38;5;241m2.\u001b[39m, \u001b[38;5;241m4.\u001b[39m, \u001b[38;5;241m8.\u001b[39m, \u001b[38;5;241m1.\u001b[39m])\n",
      "\u001b[1;31mNameError\u001b[0m: name 'array' is not defined"
     ]
    }
   ],
   "source": [
    ">>> np.median(a, axis=0)\n",
    "array([4., 3., 1.])\n",
    ">>> np.median(a, axis=1)\n",
    "array([1., 2., 4., 8., 1.])\n",
    ">>> a.var(axis=0, ddof=1)\n",
    "array([ 37.2, 121.2,   1.7])\n",
    ">>> a.var(axis=1, ddof=1)\n",
    "array([  0.,   1.,  13., 151.,  75.])"
   ]
  },
  {
   "cell_type": "code",
   "execution_count": null,
   "id": "e05c185d",
   "metadata": {},
   "outputs": [],
   "source": []
  }
 ],
 "metadata": {
  "kernelspec": {
   "display_name": "Python 3 (ipykernel)",
   "language": "python",
   "name": "python3"
  },
  "language_info": {
   "codemirror_mode": {
    "name": "ipython",
    "version": 3
   },
   "file_extension": ".py",
   "mimetype": "text/x-python",
   "name": "python",
   "nbconvert_exporter": "python",
   "pygments_lexer": "ipython3",
   "version": "3.9.12"
  }
 },
 "nbformat": 4,
 "nbformat_minor": 5
}
